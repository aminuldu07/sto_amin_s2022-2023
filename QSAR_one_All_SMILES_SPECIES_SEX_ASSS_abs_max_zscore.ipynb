{
 "cells": [
  {
   "cell_type": "markdown",
   "id": "9f68a47f",
   "metadata": {},
   "source": [
    "<h1 style = \"color : navy;\"> QSAR Model Building_MF</h1>"
   ]
  },
  {
   "cell_type": "markdown",
   "id": "c874e452",
   "metadata": {},
   "source": [
    "# QSAR Model building for predicting durg toxicity from SEND data\n",
    "### The overall workflows are as follow : \n",
    "     - Get the Negative Control Animal Body wight (NC) data from the SEND database using sql query\n",
    "        - remove the NUll values from the BWSTRESN  column \n",
    "        - NC has '0' dose level for the TRTDOSLEVEL' column \n",
    "        \n",
    "    - Get the Animal Body wight (AB) data from the SEND database using sql query\n",
    "        - remove the '0' dose level from the 'TRTDOSLEVEL' column \n",
    "        - remove the 'multiple dose level' listed in a single row from the 'TRTDOSLEVEL' column\n",
    "        - resolve the COMMA issues in 'TRTDOSLEVEL' column\n",
    "        - remove the NUll values from the BWSTRESN and 'TRTDOSLEVEL' column\n",
    "        - select the high does for each STUDYID \n",
    "        \n",
    "    - zscore calculation from AB and NC data\n",
    "        \n",
    "    - Get the SMILES data from the GSRS data \n",
    "        - merge two differnt GSRS file on Approval ID \n",
    "        - create APPID column by pasting 'APP_type' and 'App_number' columns \n",
    "    \n",
    "     - Merge zscore data and GSRS data \n",
    "         - merge zscore and GSRS data on 'APPID' column \n",
    "         - get unique \"SMILES\" with highest \"zscore\" value\n",
    "         - create the unique SMILES data frame\n",
    "    \n",
    "    - Molecular descriptor (MD) calculation \n",
    "        - molecular descriptor calculation using mordred library\n",
    "        - molecular descriptor calculation using pybimed library\n",
    "        - selection of the appropriate MD for QSAR modeling\n",
    "    \n",
    "    - Molecular descriptor (MD) data manipulation for QSAR modeling\n",
    "        - merge the descriptor data frame with the unique \"SMILES\" with highest \"zscore\" data frame \n",
    "        - assign the zscore value as toxic ( zscore < -2.00 )  and non_toxic ( zscore > -2.00 ) \n",
    "        - Now the target value is categorical value and MD values are numerical\n",
    "     \n",
    "    - QSAR Model building by differnt machine learning technique\n",
    "        - random forest model\n",
    "        - neural network \n",
    "        - svm "
   ]
  },
  {
   "cell_type": "markdown",
   "id": "2e862503",
   "metadata": {},
   "source": [
    "## Suppress any warnings for all the upcoming cells\n",
    "- use this function with the \"ignore\" argument to ignore all warnings"
   ]
  },
  {
   "cell_type": "code",
   "execution_count": 24,
   "id": "8fe5bbbc",
   "metadata": {},
   "outputs": [],
   "source": [
    "import warnings\n",
    "warnings.filterwarnings('ignore')\n",
    "\n",
    "# If there is a specific type of warning that you want to ignore, you can specify this type in the filterwarnings function\n",
    "warnings.filterwarnings('ignore', category=UserWarning) # You would replace UserWarning with the specific warning class\n",
    "                                                        # you wish to ignore.\n",
    "\n",
    "# For the case of ignoring warnings from specific libraries, you can add the module parameter:\n",
    "warnings.filterwarnings('ignore', module='numpy')  # Ignore warnings from numpy\n"
   ]
  },
  {
   "cell_type": "markdown",
   "id": "08d7c836",
   "metadata": {},
   "source": [
    "<h1 style =\"color : blue;\">  SQL query code for getting AB and NC body weight data  </h1>  \n",
    "  <ul style =\"color : red;\">\n",
    "    <li> IND147206 (export)</li>\n",
    "    <ul>"
   ]
  },
  {
   "cell_type": "markdown",
   "id": "b3bb7248",
   "metadata": {},
   "source": [
    "#### SQL query code for getting AB and NC body weight data \n",
    "\n",
    "- INDAB07032023 (export) AB_MF\n",
    "\n",
    "SELECT  ID.APPID, ID.STUDYID, DS.DSDECOD, DM.SEX,DM.SPECIES, BW.USUBJID, BW.BWTESTCD, BW.BWSTRESN, BW.BWSTRESU, TS.TSVAL AS TSSPECIES, TX.TXVAL AS TRTDOSLEVEL\n",
    "FROM (((((ID INNER JOIN DS ON (DS.STUDYID = ID.STUDYID AND DS.USUBJID = DM.USUBJID ) )\n",
    "         INNER JOIN TS ON TS.STUDYID = ID.STUDYID)\n",
    "        INNER JOIN TX ON (TX.STUDYID = ID.STUDYID AND TX.SETCD = DM.SETCD ) )\n",
    "       INNER JOIN DM ON DM.STUDYID = ID.STUDYID)\n",
    "      INNER JOIN BW ON (BW.STUDYID = ID.STUDYID AND BW.USUBJID= DM.USUBJID))\n",
    "WHERE TX.TXPARMCD == \"TRTDOS\" AND TS.TSPARMCD LIKE '%SPECIES%' AND DS.DSDECOD == \"TERMINAL SACRIFICE\" AND BW.BWTESTCD == \"TERMBW\";\n",
    "\n",
    "- INDNC07032023 (export) NC_MF \n",
    "\n",
    "SELECT ID.APPID, ID.STUDYID, DS.DSDECOD, DM.SEX,DM.SPECIES, BW.USUBJID, BW.BWTESTCD, BW.BWSTRESN, BW.BWSTRESU, TS.TSVAL AS TSSPECIES, TX.TXVAL AS TRTDOSLEVEL, TX.TXPARMCD\n",
    "FROM (((((ID INNER JOIN DS ON (DS.STUDYID = ID.STUDYID AND DS.USUBJID = DM.USUBJID ) )\n",
    "         INNER JOIN TS ON TS.STUDYID = ID.STUDYID)\n",
    "        INNER JOIN TX ON (TX.STUDYID = ID.STUDYID AND TX.SETCD = DM.SETCD ) )\n",
    "       INNER JOIN DM ON DM.STUDYID = ID.STUDYID)\n",
    "      INNER JOIN BW ON (BW.STUDYID = ID.STUDYID AND BW.USUBJID= DM.USUBJID))\n",
    "WHERE TX.TXPARMCD == \"TCNTRL\" AND TS.TSPARMCD LIKE '%SPECIES%' AND DS.DSDECOD == \"TERMINAL SACRIFICE\" AND BW.BWTESTCD == \"TERMBW\";"
   ]
  },
  {
   "cell_type": "markdown",
   "id": "28532c4b",
   "metadata": {},
   "source": [
    "<h1 style = \" color : red ;\" > Required library</h1>"
   ]
  },
  {
   "cell_type": "code",
   "execution_count": 114,
   "id": "bce268fd",
   "metadata": {},
   "outputs": [],
   "source": [
    "# Required library \n",
    "import pandas as pd\n",
    "import numpy as np"
   ]
  },
  {
   "cell_type": "markdown",
   "id": "304406b4",
   "metadata": {},
   "source": [
    "<h1 style =\"color : blue;\">  Cleaning NC file (\"NC_MF.csv\") </h1>  "
   ]
  },
  {
   "cell_type": "code",
   "execution_count": 17,
   "id": "48c9e654",
   "metadata": {},
   "outputs": [
    {
     "name": "stdout",
     "output_type": "stream",
     "text": [
      "(116072, 12)\n"
     ]
    },
    {
     "data": {
      "text/html": [
       "<div>\n",
       "<style scoped>\n",
       "    .dataframe tbody tr th:only-of-type {\n",
       "        vertical-align: middle;\n",
       "    }\n",
       "\n",
       "    .dataframe tbody tr th {\n",
       "        vertical-align: top;\n",
       "    }\n",
       "\n",
       "    .dataframe thead th {\n",
       "        text-align: right;\n",
       "    }\n",
       "</style>\n",
       "<table border=\"1\" class=\"dataframe\">\n",
       "  <thead>\n",
       "    <tr style=\"text-align: right;\">\n",
       "      <th></th>\n",
       "      <th>APPID</th>\n",
       "      <th>STUDYID</th>\n",
       "      <th>DSDECOD</th>\n",
       "      <th>SEX</th>\n",
       "      <th>SPECIES</th>\n",
       "      <th>USUBJID</th>\n",
       "      <th>BWTESTCD</th>\n",
       "      <th>BWSTRESN</th>\n",
       "      <th>BWSTRESU</th>\n",
       "      <th>TSSPECIES</th>\n",
       "      <th>TRTDOSLEVEL</th>\n",
       "      <th>TXPARMCD</th>\n",
       "    </tr>\n",
       "  </thead>\n",
       "  <tbody>\n",
       "    <tr>\n",
       "      <th>0</th>\n",
       "      <td>IND106515</td>\n",
       "      <td>G7465</td>\n",
       "      <td>TERMINAL SACRIFICE</td>\n",
       "      <td>M</td>\n",
       "      <td>MOUSE</td>\n",
       "      <td>G7465_Main-Md7982</td>\n",
       "      <td>TERMBW</td>\n",
       "      <td>30.81</td>\n",
       "      <td>g</td>\n",
       "      <td>MOUSE</td>\n",
       "      <td>Control Group</td>\n",
       "      <td>TCNTRL</td>\n",
       "    </tr>\n",
       "    <tr>\n",
       "      <th>1</th>\n",
       "      <td>IND106515</td>\n",
       "      <td>G7465</td>\n",
       "      <td>TERMINAL SACRIFICE</td>\n",
       "      <td>M</td>\n",
       "      <td>MOUSE</td>\n",
       "      <td>G7465_Main-Md7984</td>\n",
       "      <td>TERMBW</td>\n",
       "      <td>30.32</td>\n",
       "      <td>g</td>\n",
       "      <td>MOUSE</td>\n",
       "      <td>Control Group</td>\n",
       "      <td>TCNTRL</td>\n",
       "    </tr>\n",
       "  </tbody>\n",
       "</table>\n",
       "</div>"
      ],
      "text/plain": [
       "       APPID STUDYID             DSDECOD SEX SPECIES            USUBJID  \\\n",
       "0  IND106515   G7465  TERMINAL SACRIFICE   M   MOUSE  G7465_Main-Md7982   \n",
       "1  IND106515   G7465  TERMINAL SACRIFICE   M   MOUSE  G7465_Main-Md7984   \n",
       "\n",
       "  BWTESTCD  BWSTRESN BWSTRESU TSSPECIES    TRTDOSLEVEL TXPARMCD  \n",
       "0   TERMBW     30.81        g     MOUSE  Control Group   TCNTRL  \n",
       "1   TERMBW     30.32        g     MOUSE  Control Group   TCNTRL  "
      ]
     },
     "execution_count": 17,
     "metadata": {},
     "output_type": "execute_result"
    }
   ],
   "source": [
    "# Read the CSV file\n",
    "NC_MF = pd.read_csv(\"NC_MF.csv\")\n",
    "\n",
    "# print the data frame\n",
    "print(NC_MF.shape)\n",
    "NC_MF.head(2)"
   ]
  },
  {
   "cell_type": "code",
   "execution_count": 18,
   "id": "50848bd2",
   "metadata": {},
   "outputs": [
    {
     "name": "stdout",
     "output_type": "stream",
     "text": [
      "(116064, 12)\n"
     ]
    },
    {
     "data": {
      "text/html": [
       "<div>\n",
       "<style scoped>\n",
       "    .dataframe tbody tr th:only-of-type {\n",
       "        vertical-align: middle;\n",
       "    }\n",
       "\n",
       "    .dataframe tbody tr th {\n",
       "        vertical-align: top;\n",
       "    }\n",
       "\n",
       "    .dataframe thead th {\n",
       "        text-align: right;\n",
       "    }\n",
       "</style>\n",
       "<table border=\"1\" class=\"dataframe\">\n",
       "  <thead>\n",
       "    <tr style=\"text-align: right;\">\n",
       "      <th></th>\n",
       "      <th>APPID</th>\n",
       "      <th>STUDYID</th>\n",
       "      <th>DSDECOD</th>\n",
       "      <th>SEX</th>\n",
       "      <th>SPECIES</th>\n",
       "      <th>USUBJID</th>\n",
       "      <th>BWTESTCD</th>\n",
       "      <th>BWSTRESN</th>\n",
       "      <th>BWSTRESU</th>\n",
       "      <th>TSSPECIES</th>\n",
       "      <th>TRTDOSLEVEL</th>\n",
       "      <th>TXPARMCD</th>\n",
       "    </tr>\n",
       "  </thead>\n",
       "  <tbody>\n",
       "    <tr>\n",
       "      <th>0</th>\n",
       "      <td>IND106515</td>\n",
       "      <td>G7465</td>\n",
       "      <td>TERMINAL SACRIFICE</td>\n",
       "      <td>M</td>\n",
       "      <td>MOUSE</td>\n",
       "      <td>G7465_Main-Md7982</td>\n",
       "      <td>TERMBW</td>\n",
       "      <td>30.81</td>\n",
       "      <td>g</td>\n",
       "      <td>MOUSE</td>\n",
       "      <td>Control Group</td>\n",
       "      <td>TCNTRL</td>\n",
       "    </tr>\n",
       "  </tbody>\n",
       "</table>\n",
       "</div>"
      ],
      "text/plain": [
       "       APPID STUDYID             DSDECOD SEX SPECIES            USUBJID  \\\n",
       "0  IND106515   G7465  TERMINAL SACRIFICE   M   MOUSE  G7465_Main-Md7982   \n",
       "\n",
       "  BWTESTCD  BWSTRESN BWSTRESU TSSPECIES    TRTDOSLEVEL TXPARMCD  \n",
       "0   TERMBW     30.81        g     MOUSE  Control Group   TCNTRL  "
      ]
     },
     "execution_count": 18,
     "metadata": {},
     "output_type": "execute_result"
    }
   ],
   "source": [
    "# Convert the 'BWSTRESN' column to numeric\n",
    "NC_MF['BWSTRESN'] = pd.to_numeric(NC_MF['BWSTRESN'])\n",
    "\n",
    "# Remove rows where the BWSTRESN column has the value \"NULL\"\n",
    "#NC_MF_cleanf = NC_MF[NC_MF['BWSTRESN'] != \"NULL\"] ## can not remove empty 'BWSTRESN'\n",
    "\n",
    "# Remove rows where the BWSTRESN column is empty\n",
    "NC_MF_cleanf = NC_MF[NC_MF['BWSTRESN'].notnull()] \n",
    "\n",
    "print(NC_MF_cleanf.shape)\n",
    "NC_MF_cleanf.head(1)"
   ]
  },
  {
   "cell_type": "markdown",
   "id": "0177300b",
   "metadata": {},
   "source": [
    "<h4 style =\"color : navy;\">  Write the dfAB_cleanf as csv file </h4> \n",
    "   <ul style=\"color:red;\">\n",
    "    <li>NC_MF_cleanf.to_csv(\"NC_MF_cleanf.csv\", index = False)</li>\n",
    "    </ul>"
   ]
  },
  {
   "cell_type": "code",
   "execution_count": 19,
   "id": "c2f4d254",
   "metadata": {},
   "outputs": [],
   "source": [
    "# # Write dfNC_cleanf to a CSV file\n",
    "# NC_MF_cleanf.to_csv('NC_MF_cleanf.csv', index=False)"
   ]
  },
  {
   "cell_type": "markdown",
   "id": "d516151c",
   "metadata": {},
   "source": [
    "<h2 style =\"color : navy;\"> Cleaning Animal Body Weight  File (\"AB_MF.csv\") </h2> "
   ]
  },
  {
   "cell_type": "code",
   "execution_count": 22,
   "id": "017c7356",
   "metadata": {},
   "outputs": [
    {
     "name": "stdout",
     "output_type": "stream",
     "text": [
      "(446824, 11)\n"
     ]
    },
    {
     "data": {
      "text/html": [
       "<div>\n",
       "<style scoped>\n",
       "    .dataframe tbody tr th:only-of-type {\n",
       "        vertical-align: middle;\n",
       "    }\n",
       "\n",
       "    .dataframe tbody tr th {\n",
       "        vertical-align: top;\n",
       "    }\n",
       "\n",
       "    .dataframe thead th {\n",
       "        text-align: right;\n",
       "    }\n",
       "</style>\n",
       "<table border=\"1\" class=\"dataframe\">\n",
       "  <thead>\n",
       "    <tr style=\"text-align: right;\">\n",
       "      <th></th>\n",
       "      <th>APPID</th>\n",
       "      <th>STUDYID</th>\n",
       "      <th>DSDECOD</th>\n",
       "      <th>SEX</th>\n",
       "      <th>SPECIES</th>\n",
       "      <th>USUBJID</th>\n",
       "      <th>BWTESTCD</th>\n",
       "      <th>BWSTRESN</th>\n",
       "      <th>BWSTRESU</th>\n",
       "      <th>TSSPECIES</th>\n",
       "      <th>TRTDOSLEVEL</th>\n",
       "    </tr>\n",
       "  </thead>\n",
       "  <tbody>\n",
       "    <tr>\n",
       "      <th>0</th>\n",
       "      <td>NDA205777</td>\n",
       "      <td>N003003F</td>\n",
       "      <td>TERMINAL SACRIFICE</td>\n",
       "      <td>M</td>\n",
       "      <td>RAT</td>\n",
       "      <td>N003003F-101</td>\n",
       "      <td>TERMBW</td>\n",
       "      <td>1004.1</td>\n",
       "      <td>g</td>\n",
       "      <td>RAT</td>\n",
       "      <td>0</td>\n",
       "    </tr>\n",
       "  </tbody>\n",
       "</table>\n",
       "</div>"
      ],
      "text/plain": [
       "       APPID   STUDYID             DSDECOD SEX SPECIES       USUBJID BWTESTCD  \\\n",
       "0  NDA205777  N003003F  TERMINAL SACRIFICE   M     RAT  N003003F-101   TERMBW   \n",
       "\n",
       "   BWSTRESN BWSTRESU TSSPECIES TRTDOSLEVEL  \n",
       "0    1004.1        g       RAT           0  "
      ]
     },
     "execution_count": 22,
     "metadata": {},
     "output_type": "execute_result"
    }
   ],
   "source": [
    "# Reading and cleaning Animal Body weight  file (\"AB_MF.csv\")\n",
    "df = pd.read_csv('AB_MF.csv')\n",
    "\n",
    "# Print the data frame\n",
    "\n",
    "print(df.shape)\n",
    "df.head(1)"
   ]
  },
  {
   "cell_type": "markdown",
   "id": "a4d1a6b6",
   "metadata": {},
   "source": [
    "## Manually cleaning the \"AB_MF.csv\" data file\n",
    "- \"INDAB07032023_manually_cleaned.csv\"data were manually cleaned by deleting some rows by following some set criteria\n",
    "- Deleted rows having TRTDOSLEVEL '0' ,  multiple values and text values "
   ]
  },
  {
   "cell_type": "markdown",
   "id": "aec7da12",
   "metadata": {},
   "source": [
    "## Issues with  'AB_MF_Manually_cleaned.csv' data \n",
    "\n",
    "-  some \"species\" values are null\"\n",
    "- 'some' BWSTRESN values are null\n",
    "-  some data in TRTDOSLEVEl column has \"comma\" \n",
    "-  \"some\" TRTDOSLEVEL vaues are NULL as those vaues contains \"comma\" like \"1,000\""
   ]
  },
  {
   "cell_type": "markdown",
   "id": "6a0736c2",
   "metadata": {},
   "source": [
    "### Read the Mamually cleaned data frame 'AB_MF_Manually_cleaned.csv'\n",
    "- read the comma contained string value as numeric\n",
    "- replace the single comma and keep remaining in \"TRTDOSLEVEL\" column\n",
    "- thousands=',' make the comma as numeric\n",
    "- Read the \"IND147206AB_cleaned.csv\" in a way to convert COMMASlike \"1,000\" as 1000"
   ]
  },
  {
   "cell_type": "markdown",
   "id": "9453de5c",
   "metadata": {},
   "source": [
    "In a pandas DataFrame, numbers formatted with commas, like \"1,000\", are often treated as strings because the comma is not recognized in numeric data types. Therefore, if \"1,000\" is currently a float64 in your DataFrame, it's likely that it's actually being stored as NaN (since pd.to_numeric() with errors='coerce' would convert unparseable values to NaN).\n",
    "\n",
    "To confirm, you could view a subset of your data where 'TRTDOSLEVEL' is NaN:"
   ]
  },
  {
   "cell_type": "code",
   "execution_count": 100,
   "id": "8d2d3bb4",
   "metadata": {},
   "outputs": [
    {
     "name": "stdout",
     "output_type": "stream",
     "text": [
      "(309915, 11)\n"
     ]
    },
    {
     "data": {
      "text/html": [
       "<div>\n",
       "<style scoped>\n",
       "    .dataframe tbody tr th:only-of-type {\n",
       "        vertical-align: middle;\n",
       "    }\n",
       "\n",
       "    .dataframe tbody tr th {\n",
       "        vertical-align: top;\n",
       "    }\n",
       "\n",
       "    .dataframe thead th {\n",
       "        text-align: right;\n",
       "    }\n",
       "</style>\n",
       "<table border=\"1\" class=\"dataframe\">\n",
       "  <thead>\n",
       "    <tr style=\"text-align: right;\">\n",
       "      <th></th>\n",
       "      <th>APPID</th>\n",
       "      <th>STUDYID</th>\n",
       "      <th>DSDECOD</th>\n",
       "      <th>SEX</th>\n",
       "      <th>SPECIES</th>\n",
       "      <th>USUBJID</th>\n",
       "      <th>BWTESTCD</th>\n",
       "      <th>BWSTRESN</th>\n",
       "      <th>BWSTRESU</th>\n",
       "      <th>TSSPECIES</th>\n",
       "      <th>TRTDOSLEVEL</th>\n",
       "    </tr>\n",
       "  </thead>\n",
       "  <tbody>\n",
       "    <tr>\n",
       "      <th>0</th>\n",
       "      <td>IND141708</td>\n",
       "      <td>20210725</td>\n",
       "      <td>TERMINAL SACRIFICE</td>\n",
       "      <td>F</td>\n",
       "      <td>NaN</td>\n",
       "      <td>20210725-3509</td>\n",
       "      <td>TERMBW</td>\n",
       "      <td>217.0</td>\n",
       "      <td>g</td>\n",
       "      <td>RAT</td>\n",
       "      <td>82989.76</td>\n",
       "    </tr>\n",
       "  </tbody>\n",
       "</table>\n",
       "</div>"
      ],
      "text/plain": [
       "       APPID   STUDYID             DSDECOD SEX SPECIES        USUBJID  \\\n",
       "0  IND141708  20210725  TERMINAL SACRIFICE   F     NaN  20210725-3509   \n",
       "\n",
       "  BWTESTCD  BWSTRESN BWSTRESU TSSPECIES  TRTDOSLEVEL  \n",
       "0   TERMBW     217.0        g       RAT     82989.76  "
      ]
     },
     "execution_count": 100,
     "metadata": {},
     "output_type": "execute_result"
    }
   ],
   "source": [
    "# read the manully celaned csv file \n",
    "dfAB_MF = pd.read_csv('AB_MF_Manually_cleaned.csv', thousands=',') \n",
    "\n",
    "# print the data frame\n",
    "print(dfAB_MF.shape)\n",
    "dfAB_MF.head(1)"
   ]
  },
  {
   "cell_type": "markdown",
   "id": "f609b3d7",
   "metadata": {},
   "source": [
    "<h3 style =\"color : navy;\"> Check the data type of \"TRTDOSLEVEL\" column </h3> "
   ]
  },
  {
   "cell_type": "code",
   "execution_count": 101,
   "id": "c25ea8c0",
   "metadata": {},
   "outputs": [
    {
     "name": "stdout",
     "output_type": "stream",
     "text": [
      "Number of string data types in 'TRTDOSLEVEL': 0\n"
     ]
    }
   ],
   "source": [
    "# Check the data type\n",
    "str_count = dfAB_MF['TRTDOSLEVEL'].apply(lambda x: isinstance(x, str)).sum()\n",
    "\n",
    "print(f\"Number of string data types in 'TRTDOSLEVEL': {str_count}\")\n",
    "\n",
    "\n"
   ]
  },
  {
   "cell_type": "markdown",
   "id": "ddb82272",
   "metadata": {},
   "source": [
    "<h4 style =\"color : navy;\"> Check the data type of a 'specific row' in \"TRTDOSLEVEL\" column </h4> "
   ]
  },
  {
   "cell_type": "code",
   "execution_count": 102,
   "id": "35668df1",
   "metadata": {},
   "outputs": [
    {
     "name": "stdout",
     "output_type": "stream",
     "text": [
      "Data type of TRTDOSLEVEL: <class 'numpy.float64'>\n",
      "Data type of TRTDOSLEVEL: float64\n"
     ]
    }
   ],
   "source": [
    "# Check the data type\n",
    "row_index = dfAB_MF[dfAB_MF['USUBJID'] == 'H21075RD1-4005'].index[0]\n",
    "trtdoslevel_dtype = type(dfAB_MF.loc[row_index, 'TRTDOSLEVEL'])\n",
    "\n",
    "print(f\"Data type of TRTDOSLEVEL: {trtdoslevel_dtype}\")\n",
    "\n",
    "\n",
    "row_index = dfAB_MF2[dfAB_MF2['USUBJID'] == 'H21075RD1-4005'].index[0]\n",
    "trtdoslevel_dtype = dfAB_MF2.loc[row_index, 'TRTDOSLEVEL'].dtype\n",
    "\n",
    "print(f\"Data type of TRTDOSLEVEL: {trtdoslevel_dtype}\")"
   ]
  },
  {
   "cell_type": "markdown",
   "id": "28c4d57e",
   "metadata": {},
   "source": [
    "<h4 style =\"color : navy;\"> Desired columns selections  </h4> "
   ]
  },
  {
   "cell_type": "code",
   "execution_count": 127,
   "id": "b8e9fa2d",
   "metadata": {},
   "outputs": [
    {
     "name": "stdout",
     "output_type": "stream",
     "text": [
      "(309915, 8)\n"
     ]
    },
    {
     "data": {
      "text/html": [
       "<div>\n",
       "<style scoped>\n",
       "    .dataframe tbody tr th:only-of-type {\n",
       "        vertical-align: middle;\n",
       "    }\n",
       "\n",
       "    .dataframe tbody tr th {\n",
       "        vertical-align: top;\n",
       "    }\n",
       "\n",
       "    .dataframe thead th {\n",
       "        text-align: right;\n",
       "    }\n",
       "</style>\n",
       "<table border=\"1\" class=\"dataframe\">\n",
       "  <thead>\n",
       "    <tr style=\"text-align: right;\">\n",
       "      <th></th>\n",
       "      <th>APPID</th>\n",
       "      <th>STUDYID</th>\n",
       "      <th>USUBJID</th>\n",
       "      <th>BWSTRESN</th>\n",
       "      <th>BWSTRESU</th>\n",
       "      <th>SEX</th>\n",
       "      <th>TSSPECIES</th>\n",
       "      <th>TRTDOSLEVEL</th>\n",
       "    </tr>\n",
       "  </thead>\n",
       "  <tbody>\n",
       "    <tr>\n",
       "      <th>0</th>\n",
       "      <td>IND141708</td>\n",
       "      <td>20210725</td>\n",
       "      <td>20210725-3509</td>\n",
       "      <td>217.0</td>\n",
       "      <td>g</td>\n",
       "      <td>F</td>\n",
       "      <td>RAT</td>\n",
       "      <td>82989.76</td>\n",
       "    </tr>\n",
       "  </tbody>\n",
       "</table>\n",
       "</div>"
      ],
      "text/plain": [
       "       APPID   STUDYID        USUBJID  BWSTRESN BWSTRESU SEX TSSPECIES  \\\n",
       "0  IND141708  20210725  20210725-3509     217.0        g   F       RAT   \n",
       "\n",
       "   TRTDOSLEVEL  \n",
       "0     82989.76  "
      ]
     },
     "execution_count": 127,
     "metadata": {},
     "output_type": "execute_result"
    }
   ],
   "source": [
    "#Create a new DataFrame dfAB_MF1 from dfAB_MF with only the selected columns\n",
    "selected_cols = [\"APPID\", \"STUDYID\", \"USUBJID\", \"BWSTRESN\", \"BWSTRESU\", \"SEX\", \"TSSPECIES\", \"TRTDOSLEVEL\"]\n",
    "dfAB_MF1 = dfAB_MF[selected_cols]\n",
    "\n",
    "# print the data frame\n",
    "print(dfAB_MF1.shape)\n",
    "dfAB_MF1.head(1)"
   ]
  },
  {
   "cell_type": "code",
   "execution_count": 128,
   "id": "ef846959",
   "metadata": {},
   "outputs": [
    {
     "name": "stdout",
     "output_type": "stream",
     "text": [
      "Has null values: False\n",
      "Number of null values: 0\n"
     ]
    }
   ],
   "source": [
    "has_null_TRTDOSLEVEL = dfAB_MF1['TRTDOSLEVEL'].isnull()\n",
    "num_null_TRTDOSLEVEL = has_null_TRTDOSLEVEL.sum()\n",
    "\n",
    "print(f\"Has null values: {has_null_TRTDOSLEVEL.any()}\")  # This will print True if there are any null values, False otherwise\n",
    "print(f\"Number of null values: {num_null_TRTDOSLEVEL}\")  # This will print the number of null values"
   ]
  },
  {
   "cell_type": "markdown",
   "id": "1e56dc8a",
   "metadata": {},
   "source": [
    "<h4 style =\"color : navy;\"> Converting 'BWSTRESN' and 'TRTDOSLEVEL' columns to numeric  </h4> "
   ]
  },
  {
   "cell_type": "code",
   "execution_count": 129,
   "id": "ec54fa3c",
   "metadata": {},
   "outputs": [
    {
     "name": "stdout",
     "output_type": "stream",
     "text": [
      "(309915, 8)\n"
     ]
    },
    {
     "data": {
      "text/html": [
       "<div>\n",
       "<style scoped>\n",
       "    .dataframe tbody tr th:only-of-type {\n",
       "        vertical-align: middle;\n",
       "    }\n",
       "\n",
       "    .dataframe tbody tr th {\n",
       "        vertical-align: top;\n",
       "    }\n",
       "\n",
       "    .dataframe thead th {\n",
       "        text-align: right;\n",
       "    }\n",
       "</style>\n",
       "<table border=\"1\" class=\"dataframe\">\n",
       "  <thead>\n",
       "    <tr style=\"text-align: right;\">\n",
       "      <th></th>\n",
       "      <th>APPID</th>\n",
       "      <th>STUDYID</th>\n",
       "      <th>USUBJID</th>\n",
       "      <th>BWSTRESN</th>\n",
       "      <th>BWSTRESU</th>\n",
       "      <th>SEX</th>\n",
       "      <th>TSSPECIES</th>\n",
       "      <th>TRTDOSLEVEL</th>\n",
       "    </tr>\n",
       "  </thead>\n",
       "  <tbody>\n",
       "    <tr>\n",
       "      <th>0</th>\n",
       "      <td>IND141708</td>\n",
       "      <td>20210725</td>\n",
       "      <td>20210725-3509</td>\n",
       "      <td>217.0</td>\n",
       "      <td>g</td>\n",
       "      <td>F</td>\n",
       "      <td>RAT</td>\n",
       "      <td>82989.76</td>\n",
       "    </tr>\n",
       "  </tbody>\n",
       "</table>\n",
       "</div>"
      ],
      "text/plain": [
       "       APPID   STUDYID        USUBJID  BWSTRESN BWSTRESU SEX TSSPECIES  \\\n",
       "0  IND141708  20210725  20210725-3509     217.0        g   F       RAT   \n",
       "\n",
       "   TRTDOSLEVEL  \n",
       "0     82989.76  "
      ]
     },
     "execution_count": 129,
     "metadata": {},
     "output_type": "execute_result"
    }
   ],
   "source": [
    "# Create dfAB by copying dfAB1\n",
    "dfAB_MF2 = dfAB_MF1.copy()\n",
    "\n",
    "# Convert 'BWSTRESN' and 'TRTDOSLEVEL' columns to numeric\n",
    "dfAB_MF2['BWSTRESN'] = pd.to_numeric(dfAB_MF2['BWSTRESN'], errors='coerce')\n",
    "dfAB_MF2['TRTDOSLEVEL'] = pd.to_numeric(dfAB_MF2['TRTDOSLEVEL'], errors='coerce')\n",
    "\n",
    "# print the data frame\n",
    "print(dfAB_MF2.shape)\n",
    "dfAB_MF2.head(1)"
   ]
  },
  {
   "cell_type": "markdown",
   "id": "03445efc",
   "metadata": {},
   "source": [
    "<h4 style =\"color : navy;\"> Check the presence of Null Values in 'TRTDOSLEVEL' column  </h4> "
   ]
  },
  {
   "cell_type": "code",
   "execution_count": 130,
   "id": "23bdfa93",
   "metadata": {},
   "outputs": [
    {
     "name": "stdout",
     "output_type": "stream",
     "text": [
      "Has null values: False\n",
      "Number of null values: 0\n"
     ]
    }
   ],
   "source": [
    "has_null_TRTDOSLEVEL = dfAB_MF2['TRTDOSLEVEL'].isnull()\n",
    "num_null_TRTDOSLEVEL = has_null_TRTDOSLEVEL.sum()\n",
    "\n",
    "print(f\"Has null values: {has_null_TRTDOSLEVEL.any()}\")  # This will print True if there are any null values, False otherwise\n",
    "print(f\"Number of null values: {num_null_TRTDOSLEVEL}\")  # This will print the number of null values"
   ]
  },
  {
   "cell_type": "markdown",
   "id": "19f29f1a",
   "metadata": {},
   "source": [
    "<h4 style =\"color : navy;\"> Check the presence of 'string' data types in 'TRTDOSLEVEL' column  </h4> "
   ]
  },
  {
   "cell_type": "code",
   "execution_count": 131,
   "id": "3eee9d38",
   "metadata": {},
   "outputs": [
    {
     "name": "stdout",
     "output_type": "stream",
     "text": [
      "Number of string data types in 'TRTDOSLEVEL': 0\n"
     ]
    }
   ],
   "source": [
    "str_count = dfAB_MF2['TRTDOSLEVEL'].apply(lambda x: isinstance(x, str)).sum()\n",
    "\n",
    "print(f\"Number of string data types in 'TRTDOSLEVEL': {str_count}\")"
   ]
  },
  {
   "cell_type": "markdown",
   "id": "eb438810",
   "metadata": {},
   "source": [
    "#### Check the presence of Null Values in 'BWSTRESN' column"
   ]
  },
  {
   "cell_type": "code",
   "execution_count": 132,
   "id": "e655bd8c",
   "metadata": {},
   "outputs": [
    {
     "name": "stdout",
     "output_type": "stream",
     "text": [
      "Has null values: False\n",
      "Number of null values: 0\n"
     ]
    }
   ],
   "source": [
    "has_null_BWSTRESN = dfAB_MF2['BWSTRESN'].isnull()\n",
    "num_null_BWSTRESN = has_null_BWSTRESN.sum()\n",
    "\n",
    "print(f\"Has null values: {has_null_BWSTRESN.any()}\")  # This will print True if there are any null values, False otherwise\n",
    "print(f\"Number of null values: {num_null_BWSTRESN}\")  # This will print the number of null values"
   ]
  },
  {
   "cell_type": "markdown",
   "id": "6db05503",
   "metadata": {},
   "source": [
    "<h4 style =\"color : navy;\">  'Subset' function to remove rows where the BWSTRESN column has the \"NULL\" value </h4> \n",
    "   <ul style=\"color:red;\">\n",
    "    <li>remove 'null' values from the 'BWSTRESN' column if present</li>\n",
    "    </ul>"
   ]
  },
  {
   "cell_type": "code",
   "execution_count": 133,
   "id": "a80c4be7",
   "metadata": {},
   "outputs": [],
   "source": [
    "# # subset dfAB2 to remove Null values\n",
    "# dfAB_cleanf = dfAB_MF2.dropna(subset=['BWSTRESN'])\n",
    "# print(dfAB_cleanf.shape)"
   ]
  },
  {
   "cell_type": "markdown",
   "id": "faa9eea5",
   "metadata": {},
   "source": [
    " <h4 style =\"color : navy;\">  Create the dfAB_MF_cleanf </h4> "
   ]
  },
  {
   "cell_type": "code",
   "execution_count": 134,
   "id": "1fabd8e6",
   "metadata": {},
   "outputs": [
    {
     "name": "stdout",
     "output_type": "stream",
     "text": [
      "(309915, 8)\n"
     ]
    },
    {
     "data": {
      "text/html": [
       "<div>\n",
       "<style scoped>\n",
       "    .dataframe tbody tr th:only-of-type {\n",
       "        vertical-align: middle;\n",
       "    }\n",
       "\n",
       "    .dataframe tbody tr th {\n",
       "        vertical-align: top;\n",
       "    }\n",
       "\n",
       "    .dataframe thead th {\n",
       "        text-align: right;\n",
       "    }\n",
       "</style>\n",
       "<table border=\"1\" class=\"dataframe\">\n",
       "  <thead>\n",
       "    <tr style=\"text-align: right;\">\n",
       "      <th></th>\n",
       "      <th>APPID</th>\n",
       "      <th>STUDYID</th>\n",
       "      <th>USUBJID</th>\n",
       "      <th>BWSTRESN</th>\n",
       "      <th>BWSTRESU</th>\n",
       "      <th>SEX</th>\n",
       "      <th>TSSPECIES</th>\n",
       "      <th>TRTDOSLEVEL</th>\n",
       "    </tr>\n",
       "  </thead>\n",
       "  <tbody>\n",
       "    <tr>\n",
       "      <th>0</th>\n",
       "      <td>IND141708</td>\n",
       "      <td>20210725</td>\n",
       "      <td>20210725-3509</td>\n",
       "      <td>217.0</td>\n",
       "      <td>g</td>\n",
       "      <td>F</td>\n",
       "      <td>RAT</td>\n",
       "      <td>82989.76</td>\n",
       "    </tr>\n",
       "    <tr>\n",
       "      <th>1</th>\n",
       "      <td>IND141708</td>\n",
       "      <td>20210725</td>\n",
       "      <td>20210725-3503</td>\n",
       "      <td>230.0</td>\n",
       "      <td>g</td>\n",
       "      <td>F</td>\n",
       "      <td>RAT</td>\n",
       "      <td>82989.76</td>\n",
       "    </tr>\n",
       "  </tbody>\n",
       "</table>\n",
       "</div>"
      ],
      "text/plain": [
       "       APPID   STUDYID        USUBJID  BWSTRESN BWSTRESU SEX TSSPECIES  \\\n",
       "0  IND141708  20210725  20210725-3509     217.0        g   F       RAT   \n",
       "1  IND141708  20210725  20210725-3503     230.0        g   F       RAT   \n",
       "\n",
       "   TRTDOSLEVEL  \n",
       "0     82989.76  \n",
       "1     82989.76  "
      ]
     },
     "execution_count": 134,
     "metadata": {},
     "output_type": "execute_result"
    }
   ],
   "source": [
    "dfAB_MF_cleanf  = dfAB_MF2\n",
    "\n",
    "# print the data frame\n",
    "print(dfAB_MF_cleanf.shape)\n",
    "dfAB_MF_cleanf.head(2)"
   ]
  },
  {
   "cell_type": "markdown",
   "id": "41a10771",
   "metadata": {},
   "source": [
    "#### Check if the 'BWSTRESN' column has any null values and count them"
   ]
  },
  {
   "cell_type": "code",
   "execution_count": 135,
   "id": "2ce69c96",
   "metadata": {},
   "outputs": [
    {
     "name": "stdout",
     "output_type": "stream",
     "text": [
      "Has null values: False\n",
      "Number of null values: 0\n"
     ]
    }
   ],
   "source": [
    "has_null_BWSTRESN = dfAB_MF_cleanf['BWSTRESN'].isnull()\n",
    "num_null_BWSTRESN = has_null_BWSTRESN.sum()\n",
    "\n",
    "print(f\"Has null values: {has_null_BWSTRESN.any()}\")  # This will print True if there are any null values, False otherwise\n",
    "print(f\"Number of null values: {num_null_BWSTRESN}\")  # This will print the number of null values"
   ]
  },
  {
   "cell_type": "markdown",
   "id": "daf2037a",
   "metadata": {},
   "source": [
    "#### Check if the 'TRTDOSLEVEL' column has any null values and count them"
   ]
  },
  {
   "cell_type": "code",
   "execution_count": 136,
   "id": "cf33c8ef",
   "metadata": {},
   "outputs": [
    {
     "name": "stdout",
     "output_type": "stream",
     "text": [
      "Has null values: False\n",
      "Number of null values: 0\n"
     ]
    }
   ],
   "source": [
    "# Check if the 'TRTDOSLEVEL' column has any null values and count them\n",
    "\n",
    "has_null_TRTDOSLEVEL = dfAB_MF_cleanf['TRTDOSLEVEL'].isnull()\n",
    "num_null_TRTDOSLEVEL = has_null_TRTDOSLEVEL.sum()\n",
    "\n",
    "print(f\"Has null values: {has_null_TRTDOSLEVEL.any()}\")  # This will print True if there are any null values, False otherwise\n",
    "print(f\"Number of null values: {num_null_TRTDOSLEVEL}\")  # This will print the number of null values"
   ]
  },
  {
   "cell_type": "markdown",
   "id": "0b7a2015",
   "metadata": {},
   "source": [
    "<h2 style =\"color : navy;\">  Write the dfAB_MF_cleanf as csv file </h2> \n",
    "   <ul style=\"color:red;\">\n",
    "    <li>dfAB_MF_cleanf.to_csv(\"dfAB_MF_cleanf.csv\", index = False)</li>\n",
    "    </ul>"
   ]
  },
  {
   "cell_type": "code",
   "execution_count": 137,
   "id": "a14d694a",
   "metadata": {},
   "outputs": [],
   "source": [
    "# # Write the dfAB_MF2 as csv file\n",
    "#dfAB_MF_cleanf.to_csv(\"dfAB_MF_cleanf.csv\", index = False)"
   ]
  },
  {
   "cell_type": "markdown",
   "id": "264c0897",
   "metadata": {},
   "source": [
    " <h2 style =\"color : navy;\"> 'High Dose' Selection Calculation </h2> "
   ]
  },
  {
   "cell_type": "markdown",
   "id": "ea8a0536",
   "metadata": {},
   "source": [
    "#### Read 'dfAB_cleanf.csv' file "
   ]
  },
  {
   "cell_type": "code",
   "execution_count": 138,
   "id": "1c48bbb1",
   "metadata": {},
   "outputs": [
    {
     "name": "stdout",
     "output_type": "stream",
     "text": [
      "(309915, 8)\n"
     ]
    },
    {
     "data": {
      "text/html": [
       "<div>\n",
       "<style scoped>\n",
       "    .dataframe tbody tr th:only-of-type {\n",
       "        vertical-align: middle;\n",
       "    }\n",
       "\n",
       "    .dataframe tbody tr th {\n",
       "        vertical-align: top;\n",
       "    }\n",
       "\n",
       "    .dataframe thead th {\n",
       "        text-align: right;\n",
       "    }\n",
       "</style>\n",
       "<table border=\"1\" class=\"dataframe\">\n",
       "  <thead>\n",
       "    <tr style=\"text-align: right;\">\n",
       "      <th></th>\n",
       "      <th>APPID</th>\n",
       "      <th>STUDYID</th>\n",
       "      <th>USUBJID</th>\n",
       "      <th>BWSTRESN</th>\n",
       "      <th>BWSTRESU</th>\n",
       "      <th>SEX</th>\n",
       "      <th>TSSPECIES</th>\n",
       "      <th>TRTDOSLEVEL</th>\n",
       "    </tr>\n",
       "  </thead>\n",
       "  <tbody>\n",
       "    <tr>\n",
       "      <th>0</th>\n",
       "      <td>IND141708</td>\n",
       "      <td>20210725</td>\n",
       "      <td>20210725-3509</td>\n",
       "      <td>217.0</td>\n",
       "      <td>g</td>\n",
       "      <td>F</td>\n",
       "      <td>RAT</td>\n",
       "      <td>82989.76</td>\n",
       "    </tr>\n",
       "    <tr>\n",
       "      <th>1</th>\n",
       "      <td>IND141708</td>\n",
       "      <td>20210725</td>\n",
       "      <td>20210725-3503</td>\n",
       "      <td>230.0</td>\n",
       "      <td>g</td>\n",
       "      <td>F</td>\n",
       "      <td>RAT</td>\n",
       "      <td>82989.76</td>\n",
       "    </tr>\n",
       "  </tbody>\n",
       "</table>\n",
       "</div>"
      ],
      "text/plain": [
       "       APPID   STUDYID        USUBJID  BWSTRESN BWSTRESU SEX TSSPECIES  \\\n",
       "0  IND141708  20210725  20210725-3509     217.0        g   F       RAT   \n",
       "1  IND141708  20210725  20210725-3503     230.0        g   F       RAT   \n",
       "\n",
       "   TRTDOSLEVEL  \n",
       "0     82989.76  \n",
       "1     82989.76  "
      ]
     },
     "execution_count": 138,
     "metadata": {},
     "output_type": "execute_result"
    }
   ],
   "source": [
    "# Read the CSV file\n",
    "dfAB_MF_cleanf = pd.read_csv (\"dfAB_MF_cleanf.csv\")\n",
    "print(dfAB_MF_cleanf.shape)\n",
    "dfAB_MF_cleanf.head(2)"
   ]
  },
  {
   "cell_type": "markdown",
   "id": "ab21e02b",
   "metadata": {},
   "source": [
    "<h2 style =\"color : navy;\">  High dose selection </h2> \n",
    "<ul style =\"color : blue;\"> \n",
    "    <li> High dose can be selected two ways</li>\n",
    "    <ul style =\"color : red;\">\n",
    "        <li> Without prior segregation of Gender</li>\n",
    "        <li> With prior segregation of Gender</li>  \n",
    "    </ul>\n",
    "    </ul>"
   ]
  },
  {
   "cell_type": "markdown",
   "id": "758a3abb",
   "metadata": {},
   "source": [
    "<h2 style = \"color : maroon;\"> High dose selection without 'Prior Gender Segregation'</h2>\n",
    "<ul> \n",
    "    <li>This approch select max dose for each STUDYID disregarding the SEX</li>"
   ]
  },
  {
   "cell_type": "code",
   "execution_count": 157,
   "id": "0d99ea45",
   "metadata": {},
   "outputs": [
    {
     "name": "stdout",
     "output_type": "stream",
     "text": [
      "(7663, 8)\n"
     ]
    },
    {
     "data": {
      "text/html": [
       "<div>\n",
       "<style scoped>\n",
       "    .dataframe tbody tr th:only-of-type {\n",
       "        vertical-align: middle;\n",
       "    }\n",
       "\n",
       "    .dataframe tbody tr th {\n",
       "        vertical-align: top;\n",
       "    }\n",
       "\n",
       "    .dataframe thead th {\n",
       "        text-align: right;\n",
       "    }\n",
       "</style>\n",
       "<table border=\"1\" class=\"dataframe\">\n",
       "  <thead>\n",
       "    <tr style=\"text-align: right;\">\n",
       "      <th></th>\n",
       "      <th>APPID</th>\n",
       "      <th>STUDYID</th>\n",
       "      <th>USUBJID</th>\n",
       "      <th>BWSTRESN</th>\n",
       "      <th>BWSTRESU</th>\n",
       "      <th>SEX</th>\n",
       "      <th>TSSPECIES</th>\n",
       "      <th>TRTDOSLEVEL</th>\n",
       "    </tr>\n",
       "  </thead>\n",
       "  <tbody>\n",
       "    <tr>\n",
       "      <th>0</th>\n",
       "      <td>IND141708</td>\n",
       "      <td>20210725</td>\n",
       "      <td>20210725-3509</td>\n",
       "      <td>217.0</td>\n",
       "      <td>g</td>\n",
       "      <td>F</td>\n",
       "      <td>RAT</td>\n",
       "      <td>82989.76</td>\n",
       "    </tr>\n",
       "    <tr>\n",
       "      <th>20</th>\n",
       "      <td>IND118313</td>\n",
       "      <td>YB09DF</td>\n",
       "      <td>YB09DF-0148</td>\n",
       "      <td>24.4</td>\n",
       "      <td>g</td>\n",
       "      <td>F</td>\n",
       "      <td>MOUSE</td>\n",
       "      <td>50000.00</td>\n",
       "    </tr>\n",
       "  </tbody>\n",
       "</table>\n",
       "</div>"
      ],
      "text/plain": [
       "        APPID   STUDYID        USUBJID  BWSTRESN BWSTRESU SEX TSSPECIES  \\\n",
       "0   IND141708  20210725  20210725-3509     217.0        g   F       RAT   \n",
       "20  IND118313    YB09DF    YB09DF-0148      24.4        g   F     MOUSE   \n",
       "\n",
       "    TRTDOSLEVEL  \n",
       "0      82989.76  \n",
       "20     50000.00  "
      ]
     },
     "execution_count": 157,
     "metadata": {},
     "output_type": "execute_result"
    }
   ],
   "source": [
    "# # Assign dfAB_MF_cleanf data frame to a new variable \n",
    "\n",
    "# df = dfAB_MF_cleanf\n",
    "\n",
    "#  # Initialize an empty DataFrame to store the results\n",
    "# highdose_dfAB_MF_sex_unspecified = pd.DataFrame()\n",
    "\n",
    "#  # Loop over each unique STUDYID\n",
    "# for unique_studyid in df['STUDYID'].unique():\n",
    "  \n",
    "#      # Subset the DataFrame to only include rows with the current STUDYID\n",
    "#      subset_df = df[df['STUDYID'] == unique_studyid]\n",
    "  \n",
    "#      # Get the index of the row with the highest TRTDOSLEVEL value\n",
    "#      max_index = subset_df['TRTDOSLEVEL'].idxmax()\n",
    "  \n",
    "#      # Extract the row with the highest TRTDOSLEVEL value\n",
    "#      max_row = subset_df.loc[max_index]\n",
    "  \n",
    "#      # Append the max_row to the result_df DataFrame\n",
    "#      highdose_dfAB_MF_sex_unspecified = highdose_dfAB_MF_sex_unspecified.append(max_row)\n",
    "\n",
    "# # Print the result DataFrame\n",
    "print(highdose_dfAB_MF_sex_unspecified.shape)\n",
    "highdose_dfAB_MF_sex_unspecified.head(2)\n",
    "\n"
   ]
  },
  {
   "cell_type": "markdown",
   "id": "23c0f295",
   "metadata": {},
   "source": [
    "<h2 style = \"color : maroon;\"> High dose selection by Prior Gender Segregation</h2>\n",
    "<ul> \n",
    "    <li> This approach select max dose for each STUDYID and each 'SEX\"</li>"
   ]
  },
  {
   "cell_type": "code",
   "execution_count": 159,
   "id": "8c7d813b",
   "metadata": {},
   "outputs": [
    {
     "name": "stdout",
     "output_type": "stream",
     "text": [
      "Final DataFrame shape: (14722, 8)\n"
     ]
    },
    {
     "data": {
      "text/html": [
       "<div>\n",
       "<style scoped>\n",
       "    .dataframe tbody tr th:only-of-type {\n",
       "        vertical-align: middle;\n",
       "    }\n",
       "\n",
       "    .dataframe tbody tr th {\n",
       "        vertical-align: top;\n",
       "    }\n",
       "\n",
       "    .dataframe thead th {\n",
       "        text-align: right;\n",
       "    }\n",
       "</style>\n",
       "<table border=\"1\" class=\"dataframe\">\n",
       "  <thead>\n",
       "    <tr style=\"text-align: right;\">\n",
       "      <th></th>\n",
       "      <th>APPID</th>\n",
       "      <th>STUDYID</th>\n",
       "      <th>USUBJID</th>\n",
       "      <th>BWSTRESN</th>\n",
       "      <th>BWSTRESU</th>\n",
       "      <th>SEX</th>\n",
       "      <th>TSSPECIES</th>\n",
       "      <th>TRTDOSLEVEL</th>\n",
       "    </tr>\n",
       "  </thead>\n",
       "  <tbody>\n",
       "    <tr>\n",
       "      <th>10</th>\n",
       "      <td>IND141708</td>\n",
       "      <td>20210725</td>\n",
       "      <td>20210725-3010</td>\n",
       "      <td>367.0</td>\n",
       "      <td>g</td>\n",
       "      <td>M</td>\n",
       "      <td>RAT</td>\n",
       "      <td>82989.76</td>\n",
       "    </tr>\n",
       "  </tbody>\n",
       "</table>\n",
       "</div>"
      ],
      "text/plain": [
       "        APPID   STUDYID        USUBJID  BWSTRESN BWSTRESU SEX TSSPECIES  \\\n",
       "10  IND141708  20210725  20210725-3010     367.0        g   M       RAT   \n",
       "\n",
       "    TRTDOSLEVEL  \n",
       "10     82989.76  "
      ]
     },
     "execution_count": 159,
     "metadata": {},
     "output_type": "execute_result"
    }
   ],
   "source": [
    "# # Assign dfAB_MF_cleanf data frame to a new variable\n",
    "# df = dfAB_MF_cleanf\n",
    "\n",
    "# # Subset the DataFrame for male and female\n",
    "# df_male = df[df['SEX'] == 'M']\n",
    "# df_female = df[df['SEX'] == 'F']\n",
    "\n",
    "# # Initialize empty DataFrames to store the results\n",
    "# highdose_dfAB_MF_male = pd.DataFrame()\n",
    "# highdose_dfAB_MF_female = pd.DataFrame()\n",
    "\n",
    "# # Loop over each unique STUDYID in the male subset\n",
    "# for unique_studyid_male in df_male['STUDYID'].unique():\n",
    "#     # Subset the DataFrame to only include rows with the current STUDYID in the male subset\n",
    "#     subset_df_male = df_male[df_male['STUDYID'] == unique_studyid_male]\n",
    "#     # Get the index of the row with the highest TRTDOSLEVEL value in the male subset\n",
    "#     max_index_male = subset_df_male['TRTDOSLEVEL'].idxmax()\n",
    "#     # Extract the row with the highest TRTDOSLEVEL value in the male subset\n",
    "#     max_row_male = subset_df_male.loc[max_index_male]\n",
    "#     # Append the max_row_male to the male result DataFrame\n",
    "#     highdose_dfAB_MF_male = highdose_dfAB_MF_male.append(max_row_male)\n",
    "\n",
    "# # Loop over each unique STUDYID in the female subset\n",
    "# for unique_studyid_female in df_female['STUDYID'].unique():\n",
    "#     # Subset the DataFrame to only include rows with the current STUDYID in the female subset\n",
    "#     subset_df_female = df_female[df_female['STUDYID'] == unique_studyid_female]\n",
    "#     # Get the index of the row with the highest TRTDOSLEVEL value in the female subset\n",
    "#     max_index_female = subset_df_female['TRTDOSLEVEL'].idxmax()\n",
    "#     # Extract the row with the highest TRTDOSLEVEL value in the female subset\n",
    "#     max_row_female = subset_df_female.loc[max_index_female]\n",
    "#     # Append the max_row_female to the female result DataFrame\n",
    "#     highdose_dfAB_MF_female = highdose_dfAB_MF_female.append(max_row_female)\n",
    "\n",
    "# # Concatenate the male and female DataFrames to create the final DataFrame\n",
    "# highdose_dfAB_MF_sex_specified = pd.concat([highdose_dfAB_MF_male, highdose_dfAB_MF_female])\n",
    "\n",
    "# # Print the shape of the final DataFrame\n",
    "print(\"Final DataFrame shape:\", highdose_dfAB_MF_sex_specified.shape)\n",
    "highdose_dfAB_MF_sex_specified.head(1)\n",
    "\n",
    "\n",
    "# The above code can also be written as below........................................................................\n",
    "#.....................................................................................................................\n",
    "# # Assign dfAB_MF_cleanf data frame to a new variable\n",
    "# df = dfAB_MF_cleanf\n",
    "\n",
    "# # Initialize empty DataFrames to store the results\n",
    "# highdose_dfAB_MF_male = pd.DataFrame()\n",
    "# highdose_dfAB_MF_female = pd.DataFrame()\n",
    "\n",
    "# # Loop over each unique STUDYID\n",
    "# for unique_studyid in df['STUDYID'].unique():\n",
    "  \n",
    "#     # Subset the DataFrame to only include rows with the current STUDYID\n",
    "#     subset_df = df[df['STUDYID'] == unique_studyid]\n",
    "  \n",
    "#     # Separate the subset DataFrame by SEX column\n",
    "#     subset_df_male = subset_df[subset_df['SEX'] == 'M']\n",
    "#     subset_df_female = subset_df[subset_df['SEX'] == 'F']\n",
    "  \n",
    "#     # Check if the subset DataFrames are not empty\n",
    "#     if not subset_df_male.empty:\n",
    "#         # Get the index of the row with the highest TRTDOSLEVEL value for M\n",
    "#         max_index_male = subset_df_male['TRTDOSLEVEL'].idxmax()\n",
    "#         # Extract the row with the highest TRTDOSLEVEL value for M\n",
    "#         max_row_male = subset_df_male.loc[max_index_male]\n",
    "#         # Append the max_row_male to the male result DataFrame\n",
    "#         highdose_dfAB_MF_male = highdose_dfAB_MF_male.append(max_row_male)\n",
    "  \n",
    "#     if not subset_df_female.empty:\n",
    "#         # Get the index of the row with the highest TRTDOSLEVEL value for F\n",
    "#         max_index_female = subset_df_female['TRTDOSLEVEL'].idxmax()\n",
    "#         # Extract the row with the highest TRTDOSLEVEL value for F\n",
    "#         max_row_female = subset_df_female.loc[max_index_female]\n",
    "#         # Append the max_row_female to the female result DataFrame\n",
    "#         highdose_dfAB_MF_female = highdose_dfAB_MF_female.append(max_row_female)\n",
    "\n",
    "# # Concatenate the male and female DataFrames to create the final DataFrame\n",
    "# final_df = pd.concat([highdose_dfAB_MF_male, highdose_dfAB_MF_female])\n",
    "\n",
    "# # Print the shape of the final DataFrame\n",
    "# print(\"Final DataFrame shape:\", final_df.shape)\n"
   ]
  },
  {
   "cell_type": "markdown",
   "id": "58cb6652",
   "metadata": {},
   "source": [
    "<h4 style = \"color : maroon;\"> High dose selection from\" High dose selection by Prior Gender Segregation\"</h4>\n",
    "<ul style = \"color : maroon;\"> \n",
    "    <li> This approach select max dose for each STUDYID without considering the SEX</li>\n",
    "<ul> \n",
    "    "
   ]
  },
  {
   "cell_type": "code",
   "execution_count": 224,
   "id": "78beacbc",
   "metadata": {},
   "outputs": [],
   "source": [
    "# # Assign dfAB_MF_cleanf data frame to a new variable \n",
    "\n",
    "# df = highdose_dfAB_MF_sex_specified\n",
    "\n",
    "#  # Initialize an empty DataFrame to store the results\n",
    "# highdose_dfAB_MF_fpgs = pd.DataFrame()\n",
    "\n",
    "#  # Loop over each unique STUDYID\n",
    "# for unique_studyid in df['STUDYID'].unique():\n",
    "  \n",
    "#      # Subset the DataFrame to only include rows with the current STUDYID\n",
    "#      subset_df = df[df['STUDYID'] == unique_studyid]\n",
    "  \n",
    "#      # Get the index of the row with the highest TRTDOSLEVEL value\n",
    "#      max_index = subset_df['TRTDOSLEVEL'].idxmax()\n",
    "  \n",
    "#      # Extract the row with the highest TRTDOSLEVEL value\n",
    "#      max_row = subset_df.loc[max_index]\n",
    "  \n",
    "#      # Append the max_row to the result_df DataFrame\n",
    "#      highdose_dfAB_MF_fpgs = highdose_dfAB_MF_fpgs.append(max_row)\n",
    "\n",
    "# # Print the result DataFrame\n",
    "# print(highdose_dfAB_MF_fpgs.shape)\n",
    "# highdose_dfAB_MF_fpgs\n"
   ]
  },
  {
   "cell_type": "code",
   "execution_count": null,
   "id": "4c5d3288",
   "metadata": {},
   "outputs": [],
   "source": []
  },
  {
   "cell_type": "markdown",
   "id": "a14f3a53",
   "metadata": {},
   "source": [
    "<h3 style =\"color : navy;\">  Write the highdose_dfAB_MF_sex_specified as csv file </h3> \n",
    "   <ul style=\"color:red;\">\n",
    "    <li>highdose_dfAB_MF_sex_specified.to_csv(\"highdose_dfAB_MF_sex_specified.csv\", index = False)</li>\n",
    "    </ul>"
   ]
  },
  {
   "cell_type": "code",
   "execution_count": 162,
   "id": "54f14e16",
   "metadata": {},
   "outputs": [],
   "source": [
    "# # Write the DataFrame to a CSV file\n",
    "# highdose_dfAB_MF_sex_specified.to_csv('highdose_dfAB_MF_sex_specified.csv', index=False)"
   ]
  },
  {
   "cell_type": "markdown",
   "id": "b9754601",
   "metadata": {},
   "source": [
    "<h3 style =\"color : navy;\"> \"ZSCORES\" calculations for each unique STUDYID </h3> \n",
    "  <ul style=\"color:red;\">\n",
    "    <li> zscores calculation requires</li>\n",
    "    <ul style=\"color:navy;\">\n",
    "    <li>highdose_dfAB_MF_sex_specified from AB_MF data</li>\n",
    "     <li>Cleaned Negative control \"NC_MF_cleanf\" data</li>   \n",
    "    </ul>\n",
    "   </ul>"
   ]
  },
  {
   "cell_type": "markdown",
   "id": "5d9e0f58",
   "metadata": {},
   "source": [
    "### Read the cleaned and final  NC data (\"dfNC__no_NaN.csv\")"
   ]
  },
  {
   "cell_type": "code",
   "execution_count": 226,
   "id": "ad2ccf49",
   "metadata": {},
   "outputs": [
    {
     "name": "stdout",
     "output_type": "stream",
     "text": [
      "(116064, 12)\n"
     ]
    }
   ],
   "source": [
    "# Read the cleaned and final NC data \n",
    "df1 =  pd.read_csv(\"NC_MF_cleanf.csv\")\n",
    "print(df1.shape)"
   ]
  },
  {
   "cell_type": "markdown",
   "id": "cf20d0d5",
   "metadata": {},
   "source": [
    "### Read the final AB High Dose Selection data"
   ]
  },
  {
   "cell_type": "code",
   "execution_count": 227,
   "id": "80f862dc",
   "metadata": {},
   "outputs": [
    {
     "name": "stdout",
     "output_type": "stream",
     "text": [
      "(14722, 8)\n"
     ]
    }
   ],
   "source": [
    "# read final AB High Dose Selection data\n",
    "df2 = pd.read_csv ('highdose_dfAB_MF_sex_specified.csv')\n",
    "print(df2.shape)"
   ]
  },
  {
   "cell_type": "markdown",
   "id": "8871d33c",
   "metadata": {},
   "source": [
    "### Grouping NC DATA for 'MEAN' and 'SD' calculation on 'BWSTRESN'\n",
    "- If any STUDYID has only one rows , it's SD was 'NaN\" \n",
    "- rows containning NaN values were removed"
   ]
  },
  {
   "cell_type": "code",
   "execution_count": 230,
   "id": "ea3a1a41",
   "metadata": {},
   "outputs": [],
   "source": [
    "# # Group by 'STUDYID' and calculate the mean and standard deviation of 'BWSTRESN'\n",
    "# df1_grouped = df1.groupby('STUDYID').agg({'BWSTRESN': ['count', 'mean', 'std']})\n",
    "\n",
    "# # Reset the column names\n",
    "# df1_grouped.columns = ['count', 'mean_BWSTRESN', 'sd_BWSTRESN']\n",
    "\n",
    "# # Filter rows where count is more than 1\n",
    "# df1_grouped = df1_grouped[df1_grouped['count'] > 1]\n",
    "\n",
    "# # Drop the 'count' column\n",
    "# df1_grouped = df1_grouped.drop(columns=['count'])\n",
    "\n",
    "# # Remove rows with NaN values\n",
    "# df1_grouped = df1_grouped.dropna()\n",
    "\n",
    "# print(df1_grouped.shape)"
   ]
  },
  {
   "cell_type": "code",
   "execution_count": null,
   "id": "199a7766",
   "metadata": {},
   "outputs": [],
   "source": []
  },
  {
   "cell_type": "code",
   "execution_count": 232,
   "id": "4c001cfe",
   "metadata": {},
   "outputs": [
    {
     "name": "stdout",
     "output_type": "stream",
     "text": [
      "(13949, 2)\n"
     ]
    },
    {
     "data": {
      "text/html": [
       "<div>\n",
       "<style scoped>\n",
       "    .dataframe tbody tr th:only-of-type {\n",
       "        vertical-align: middle;\n",
       "    }\n",
       "\n",
       "    .dataframe tbody tr th {\n",
       "        vertical-align: top;\n",
       "    }\n",
       "\n",
       "    .dataframe thead th {\n",
       "        text-align: right;\n",
       "    }\n",
       "</style>\n",
       "<table border=\"1\" class=\"dataframe\">\n",
       "  <thead>\n",
       "    <tr style=\"text-align: right;\">\n",
       "      <th></th>\n",
       "      <th></th>\n",
       "      <th>mean_BWSTRESN</th>\n",
       "      <th>sd_BWSTRESN</th>\n",
       "    </tr>\n",
       "    <tr>\n",
       "      <th>STUDYID</th>\n",
       "      <th>SEX</th>\n",
       "      <th></th>\n",
       "      <th></th>\n",
       "    </tr>\n",
       "  </thead>\n",
       "  <tbody>\n",
       "    <tr>\n",
       "      <th>00041516</th>\n",
       "      <th>F</th>\n",
       "      <td>2.85</td>\n",
       "      <td>0.353553</td>\n",
       "    </tr>\n",
       "  </tbody>\n",
       "</table>\n",
       "</div>"
      ],
      "text/plain": [
       "              mean_BWSTRESN  sd_BWSTRESN\n",
       "STUDYID  SEX                            \n",
       "00041516 F             2.85     0.353553"
      ]
     },
     "execution_count": 232,
     "metadata": {},
     "output_type": "execute_result"
    }
   ],
   "source": [
    "# Group by 'STUDYID' and 'SEX' and calculate the mean and standard deviation of 'BWSTRESN'\n",
    "df1_grouped = df1.groupby(['STUDYID', 'SEX']).agg({'BWSTRESN': ['count', 'mean', 'std']})\n",
    "\n",
    "# Reset the column names\n",
    "df1_grouped.columns = ['count', 'mean_BWSTRESN', 'sd_BWSTRESN']\n",
    "\n",
    "# Filter rows where count is more than 1\n",
    "df1_grouped = df1_grouped[df1_grouped['count'] > 1]\n",
    "\n",
    "# Drop the 'count' column\n",
    "df1_grouped = df1_grouped.drop(columns=['count'])\n",
    "\n",
    "# Remove rows with NaN values\n",
    "df1_grouped = df1_grouped.dropna()\n",
    "\n",
    "print(df1_grouped.shape)\n",
    "df1_grouped.head(1)"
   ]
  },
  {
   "cell_type": "markdown",
   "id": "7496a423",
   "metadata": {},
   "source": [
    "### Joining grouped_NC (df1_grouped) data with  highdose_dfAB data ( Join AB and NC data)\n",
    "- joined on STUDYID"
   ]
  },
  {
   "cell_type": "code",
   "execution_count": 234,
   "id": "e44fa9e6",
   "metadata": {},
   "outputs": [
    {
     "name": "stdout",
     "output_type": "stream",
     "text": [
      "(12484, 10)\n"
     ]
    },
    {
     "data": {
      "text/html": [
       "<div>\n",
       "<style scoped>\n",
       "    .dataframe tbody tr th:only-of-type {\n",
       "        vertical-align: middle;\n",
       "    }\n",
       "\n",
       "    .dataframe tbody tr th {\n",
       "        vertical-align: top;\n",
       "    }\n",
       "\n",
       "    .dataframe thead th {\n",
       "        text-align: right;\n",
       "    }\n",
       "</style>\n",
       "<table border=\"1\" class=\"dataframe\">\n",
       "  <thead>\n",
       "    <tr style=\"text-align: right;\">\n",
       "      <th></th>\n",
       "      <th>STUDYID</th>\n",
       "      <th>SEX</th>\n",
       "      <th>mean_BWSTRESN</th>\n",
       "      <th>sd_BWSTRESN</th>\n",
       "      <th>APPID</th>\n",
       "      <th>USUBJID</th>\n",
       "      <th>BWSTRESN</th>\n",
       "      <th>BWSTRESU</th>\n",
       "      <th>TSSPECIES</th>\n",
       "      <th>TRTDOSLEVEL</th>\n",
       "    </tr>\n",
       "  </thead>\n",
       "  <tbody>\n",
       "    <tr>\n",
       "      <th>0</th>\n",
       "      <td>00303-201048</td>\n",
       "      <td>F</td>\n",
       "      <td>250.490000</td>\n",
       "      <td>10.878567</td>\n",
       "      <td>IND153467</td>\n",
       "      <td>00303-201048-187730</td>\n",
       "      <td>195.9</td>\n",
       "      <td>g</td>\n",
       "      <td>RAT</td>\n",
       "      <td>3.0</td>\n",
       "    </tr>\n",
       "    <tr>\n",
       "      <th>1</th>\n",
       "      <td>00303-201048</td>\n",
       "      <td>M</td>\n",
       "      <td>396.120000</td>\n",
       "      <td>26.441920</td>\n",
       "      <td>IND153467</td>\n",
       "      <td>00303-201048-187714</td>\n",
       "      <td>236.2</td>\n",
       "      <td>g</td>\n",
       "      <td>RAT</td>\n",
       "      <td>3.0</td>\n",
       "    </tr>\n",
       "    <tr>\n",
       "      <th>2</th>\n",
       "      <td>00903D200493</td>\n",
       "      <td>F</td>\n",
       "      <td>6.376667</td>\n",
       "      <td>0.743931</td>\n",
       "      <td>IND155950</td>\n",
       "      <td>00903D200493-16836</td>\n",
       "      <td>5.4</td>\n",
       "      <td>kg</td>\n",
       "      <td>DOG</td>\n",
       "      <td>3.5</td>\n",
       "    </tr>\n",
       "  </tbody>\n",
       "</table>\n",
       "</div>"
      ],
      "text/plain": [
       "        STUDYID SEX  mean_BWSTRESN  sd_BWSTRESN      APPID  \\\n",
       "0  00303-201048   F     250.490000    10.878567  IND153467   \n",
       "1  00303-201048   M     396.120000    26.441920  IND153467   \n",
       "2  00903D200493   F       6.376667     0.743931  IND155950   \n",
       "\n",
       "               USUBJID  BWSTRESN BWSTRESU TSSPECIES  TRTDOSLEVEL  \n",
       "0  00303-201048-187730     195.9        g       RAT          3.0  \n",
       "1  00303-201048-187714     236.2        g       RAT          3.0  \n",
       "2   00903D200493-16836       5.4       kg       DOG          3.5  "
      ]
     },
     "execution_count": 234,
     "metadata": {},
     "output_type": "execute_result"
    }
   ],
   "source": [
    "# Join df1_grouped and df2 on 'STUDYID' and 'SEX'\n",
    "joined_df = pd.merge(df1_grouped, df2, on=['STUDYID', 'SEX'], how='inner')\n",
    "\n",
    "print(joined_df.shape)\n",
    "joined_df.head(3)"
   ]
  },
  {
   "cell_type": "code",
   "execution_count": 233,
   "id": "dd9c8106",
   "metadata": {},
   "outputs": [],
   "source": [
    "# # Join df1_grouped and df2 on 'STUDYID'\n",
    "# joined_df = pd.merge(df1_grouped, df2, on='STUDYID', how='inner')\n",
    "\n",
    "# print(joined_df.shape)"
   ]
  },
  {
   "cell_type": "markdown",
   "id": "38f9b3f8",
   "metadata": {},
   "source": [
    "### Zscore calcualtion"
   ]
  },
  {
   "cell_type": "code",
   "execution_count": 235,
   "id": "a16cd38b",
   "metadata": {},
   "outputs": [
    {
     "name": "stdout",
     "output_type": "stream",
     "text": [
      "(12414, 11)\n"
     ]
    },
    {
     "data": {
      "text/html": [
       "<div>\n",
       "<style scoped>\n",
       "    .dataframe tbody tr th:only-of-type {\n",
       "        vertical-align: middle;\n",
       "    }\n",
       "\n",
       "    .dataframe tbody tr th {\n",
       "        vertical-align: top;\n",
       "    }\n",
       "\n",
       "    .dataframe thead th {\n",
       "        text-align: right;\n",
       "    }\n",
       "</style>\n",
       "<table border=\"1\" class=\"dataframe\">\n",
       "  <thead>\n",
       "    <tr style=\"text-align: right;\">\n",
       "      <th></th>\n",
       "      <th>APPID</th>\n",
       "      <th>SEX</th>\n",
       "      <th>STUDYID</th>\n",
       "      <th>USUBJID</th>\n",
       "      <th>zscore</th>\n",
       "      <th>mean_BWSTRESN</th>\n",
       "      <th>sd_BWSTRESN</th>\n",
       "      <th>BWSTRESN</th>\n",
       "      <th>BWSTRESU</th>\n",
       "      <th>TSSPECIES</th>\n",
       "      <th>TRTDOSLEVEL</th>\n",
       "    </tr>\n",
       "  </thead>\n",
       "  <tbody>\n",
       "    <tr>\n",
       "      <th>0</th>\n",
       "      <td>IND153467</td>\n",
       "      <td>F</td>\n",
       "      <td>00303-201048</td>\n",
       "      <td>00303-201048-187730</td>\n",
       "      <td>-5.018124</td>\n",
       "      <td>250.49</td>\n",
       "      <td>10.878567</td>\n",
       "      <td>195.9</td>\n",
       "      <td>g</td>\n",
       "      <td>RAT</td>\n",
       "      <td>3.0</td>\n",
       "    </tr>\n",
       "    <tr>\n",
       "      <th>1</th>\n",
       "      <td>IND153467</td>\n",
       "      <td>M</td>\n",
       "      <td>00303-201048</td>\n",
       "      <td>00303-201048-187714</td>\n",
       "      <td>-6.047972</td>\n",
       "      <td>396.12</td>\n",
       "      <td>26.441920</td>\n",
       "      <td>236.2</td>\n",
       "      <td>g</td>\n",
       "      <td>RAT</td>\n",
       "      <td>3.0</td>\n",
       "    </tr>\n",
       "  </tbody>\n",
       "</table>\n",
       "</div>"
      ],
      "text/plain": [
       "       APPID SEX       STUDYID              USUBJID    zscore  mean_BWSTRESN  \\\n",
       "0  IND153467   F  00303-201048  00303-201048-187730 -5.018124         250.49   \n",
       "1  IND153467   M  00303-201048  00303-201048-187714 -6.047972         396.12   \n",
       "\n",
       "   sd_BWSTRESN  BWSTRESN BWSTRESU TSSPECIES  TRTDOSLEVEL  \n",
       "0    10.878567     195.9        g       RAT          3.0  \n",
       "1    26.441920     236.2        g       RAT          3.0  "
      ]
     },
     "execution_count": 235,
     "metadata": {},
     "output_type": "execute_result"
    }
   ],
   "source": [
    "# Create a new DataFrame\n",
    "zscore_df = joined_df.copy()\n",
    "\n",
    "# Compute zscore\n",
    "joined_df['zscore'] = (joined_df['BWSTRESN'] - joined_df['mean_BWSTRESN']) / joined_df['sd_BWSTRESN']\n",
    "\n",
    "# Filter out rows where 'zscore' is NaN, -Inf, or Inf\n",
    "joined_df = joined_df[np.isfinite(joined_df['zscore'])]\n",
    "\n",
    "# Reorganize the columns of the joined_df\n",
    "zscore_df = joined_df[['APPID', 'SEX', 'STUDYID', 'USUBJID', 'zscore', 'mean_BWSTRESN', 'sd_BWSTRESN', 'BWSTRESN', 'BWSTRESU', 'TSSPECIES', 'TRTDOSLEVEL']]\n",
    "\n",
    "print(zscore_df.shape)\n",
    "zscore_df.head(2)\n"
   ]
  },
  {
   "cell_type": "markdown",
   "id": "57f2bd88",
   "metadata": {},
   "source": [
    "### Write zscore_df as a CSV file"
   ]
  },
  {
   "cell_type": "code",
   "execution_count": 236,
   "id": "59423262",
   "metadata": {},
   "outputs": [],
   "source": [
    "# # Write to CSV file\n",
    "# zscore_df.to_csv(\"zscore.csv\", index=False)"
   ]
  },
  {
   "cell_type": "markdown",
   "id": "7f33003a",
   "metadata": {},
   "source": [
    "### Check any null value in 'zscore' column"
   ]
  },
  {
   "cell_type": "code",
   "execution_count": 237,
   "id": "2de558ed",
   "metadata": {},
   "outputs": [
    {
     "name": "stdout",
     "output_type": "stream",
     "text": [
      "Has null values: False\n",
      "Number of null values: 0\n"
     ]
    }
   ],
   "source": [
    "# Check if the 'zscore' column has any null values and count them\n",
    "\n",
    "has_null_zscore = zscore_df['zscore'].isnull()\n",
    "num_null_zscore = has_null_zscore.sum()\n",
    "\n",
    "print(f\"Has null values: {has_null_zscore.any()}\")  # This will print True if there are any null values, False otherwise\n",
    "print(f\"Number of null values: {num_null_zscore}\")  # This will print the number of null values"
   ]
  },
  {
   "cell_type": "markdown",
   "id": "9510f50e",
   "metadata": {},
   "source": [
    "<h1 style =\"color : maroon;\">  Merging \"GSRS data\"  with 'zscore' data on 'APPID' </h1> \n",
    "<ul style=\"color:blue;\">\n",
    "    <li>'GSRS' and 'zscore' does not have common column </li>\n",
    "    </ul>"
   ]
  },
  {
   "cell_type": "markdown",
   "id": "4230dd30",
   "metadata": {},
   "source": [
    "<h1 style =\"color : navy;\">  Issues with  \"GSRS data\"   </h1> \n",
    "<ul style=\"color:blue;\">\n",
    "    <li>GSRS has multiple data files</li>\n",
    "    <li>GSRS data doesn't have APPID column while 'zscore' does</li>\n",
    "    <li>APPID column can be created from GSRS data</li>\n",
    "    </ul>"
   ]
  },
  {
   "cell_type": "markdown",
   "id": "2db041c2",
   "metadata": {},
   "source": [
    "<h3 style=\"color: black;\">GSRS data processing for generating 'APPID' column</h3>\n",
    "<ul style=\"color: navy;\">\n",
    "    <li>Below mentioned two GSRS data files required for 'APPID' column generation:</li>\n",
    "    <ul>\n",
    "        <li>BrowseApplications-13-04-2023_7-08-00.csv</li>\n",
    "        <li>export-13-04-2023_7-08-24.csv</li>\n",
    "    </ul>\n",
    "</ul>\n"
   ]
  },
  {
   "cell_type": "markdown",
   "id": "257f8e2d",
   "metadata": {},
   "source": [
    "<h3 style =\"color : blue;\"> <><><> Processing <><><> \"BrowseApplications-13-04-2023_7-08-00.csv\" <><><><><>> </h3>  "
   ]
  },
  {
   "cell_type": "code",
   "execution_count": 238,
   "id": "cd6fc533",
   "metadata": {},
   "outputs": [
    {
     "name": "stdout",
     "output_type": "stream",
     "text": [
      "(162561, 21)\n"
     ]
    }
   ],
   "source": [
    "# read the data frame\n",
    "data1_APPID = pd.read_csv(\"BrowseApplications-13-04-2023_7-08-00.csv\")\n",
    "print(data1_APPID.shape)"
   ]
  },
  {
   "cell_type": "markdown",
   "id": "b54a202d",
   "metadata": {},
   "source": [
    "#### Select the required columns"
   ]
  },
  {
   "cell_type": "code",
   "execution_count": 239,
   "id": "9e1ca47a",
   "metadata": {},
   "outputs": [
    {
     "name": "stdout",
     "output_type": "stream",
     "text": [
      "(162561, 4)\n"
     ]
    }
   ],
   "source": [
    "#Create a new DataFrame data2_APPID from data1_APPID with only the selected columns\n",
    "\n",
    "selected_cols = [\"APPLICANT_INGREDIENT_NAME\", \"APPROVAL_ID\", \"APP_TYPE\", \"APP_NUMBER\"]\n",
    "data2_APPID = data1_APPID[selected_cols]\n",
    "print(data2_APPID.shape)"
   ]
  },
  {
   "cell_type": "markdown",
   "id": "75d25b3e",
   "metadata": {},
   "source": [
    "####  'APPID' column generation by pasting 'APP_TYPE'&\t'APP_NUMBER' columns"
   ]
  },
  {
   "cell_type": "code",
   "execution_count": 240,
   "id": "ea129b92",
   "metadata": {},
   "outputs": [
    {
     "name": "stdout",
     "output_type": "stream",
     "text": [
      "(162561, 5)\n"
     ]
    },
    {
     "data": {
      "text/html": [
       "<div>\n",
       "<style scoped>\n",
       "    .dataframe tbody tr th:only-of-type {\n",
       "        vertical-align: middle;\n",
       "    }\n",
       "\n",
       "    .dataframe tbody tr th {\n",
       "        vertical-align: top;\n",
       "    }\n",
       "\n",
       "    .dataframe thead th {\n",
       "        text-align: right;\n",
       "    }\n",
       "</style>\n",
       "<table border=\"1\" class=\"dataframe\">\n",
       "  <thead>\n",
       "    <tr style=\"text-align: right;\">\n",
       "      <th></th>\n",
       "      <th>APPLICANT_INGREDIENT_NAME</th>\n",
       "      <th>APPROVAL_ID</th>\n",
       "      <th>APP_TYPE</th>\n",
       "      <th>APP_NUMBER</th>\n",
       "      <th>APPID</th>\n",
       "    </tr>\n",
       "  </thead>\n",
       "  <tbody>\n",
       "    <tr>\n",
       "      <th>0</th>\n",
       "      <td>SCH-497079</td>\n",
       "      <td>LHH8O48T5P</td>\n",
       "      <td>IND</td>\n",
       "      <td>101111</td>\n",
       "      <td>IND101111</td>\n",
       "    </tr>\n",
       "    <tr>\n",
       "      <th>1</th>\n",
       "      <td>CASIRIVIMAB|IMDEVIMAB</td>\n",
       "      <td>J0FI6WE1QN|2Z3DQD2JHM</td>\n",
       "      <td>IND</td>\n",
       "      <td>-33323</td>\n",
       "      <td>IND-33323</td>\n",
       "    </tr>\n",
       "  </tbody>\n",
       "</table>\n",
       "</div>"
      ],
      "text/plain": [
       "  APPLICANT_INGREDIENT_NAME            APPROVAL_ID APP_TYPE APP_NUMBER  \\\n",
       "0                SCH-497079             LHH8O48T5P      IND     101111   \n",
       "1     CASIRIVIMAB|IMDEVIMAB  J0FI6WE1QN|2Z3DQD2JHM      IND     -33323   \n",
       "\n",
       "       APPID  \n",
       "0  IND101111  \n",
       "1  IND-33323  "
      ]
     },
     "execution_count": 240,
     "metadata": {},
     "output_type": "execute_result"
    }
   ],
   "source": [
    "# 'APPID' column generation by pasting 'APP_TYPE'&\t'APP_NUMBER' columns\n",
    "\n",
    "data2_APPID['APPID'] = data2_APPID['APP_TYPE'].astype(str) + data2_APPID['APP_NUMBER'].astype(str)\n",
    "print(data2_APPID.shape)\n",
    "data2_APPID.head(2)"
   ]
  },
  {
   "cell_type": "markdown",
   "id": "3e116cb2",
   "metadata": {},
   "source": [
    "#### Select the required columns"
   ]
  },
  {
   "cell_type": "code",
   "execution_count": 241,
   "id": "e287976e",
   "metadata": {},
   "outputs": [
    {
     "name": "stdout",
     "output_type": "stream",
     "text": [
      "(162561, 2)\n"
     ]
    }
   ],
   "source": [
    "# column selection from data2_APPID\n",
    "data_APPID = data2_APPID[[\"APPID\", \"APPROVAL_ID\"]]\n",
    "print (data_APPID.shape)"
   ]
  },
  {
   "cell_type": "markdown",
   "id": "369d69be",
   "metadata": {},
   "source": [
    "<h2 style =\"color : navy;\">  Write the data_APPID as csv file </h2> \n",
    "   <ul style=\"color:red;\">\n",
    "    <li>data_APPID.to_csv(\"data_APPID.csv\", index = False)</li>\n",
    "    </ul>\n"
   ]
  },
  {
   "cell_type": "code",
   "execution_count": 242,
   "id": "01b5f711",
   "metadata": {},
   "outputs": [],
   "source": [
    "# write the data_APPID as csv file\n",
    "\n",
    "# data_APPID.to_csv(\"data_APPID.csv\", index = False)"
   ]
  },
  {
   "cell_type": "markdown",
   "id": "82b91a4a",
   "metadata": {},
   "source": [
    "<h2 style =\"color : magenta;\">  <><><> Processing <><><> \"export-13-04-2023_7-08-24.csv\" <><><><><><> </h2> "
   ]
  },
  {
   "cell_type": "code",
   "execution_count": 243,
   "id": "09883b09",
   "metadata": {},
   "outputs": [
    {
     "name": "stdout",
     "output_type": "stream",
     "text": [
      "(10998, 24)\n"
     ]
    },
    {
     "data": {
      "text/html": [
       "<div>\n",
       "<style scoped>\n",
       "    .dataframe tbody tr th:only-of-type {\n",
       "        vertical-align: middle;\n",
       "    }\n",
       "\n",
       "    .dataframe tbody tr th {\n",
       "        vertical-align: top;\n",
       "    }\n",
       "\n",
       "    .dataframe thead th {\n",
       "        text-align: right;\n",
       "    }\n",
       "</style>\n",
       "<table border=\"1\" class=\"dataframe\">\n",
       "  <thead>\n",
       "    <tr style=\"text-align: right;\">\n",
       "      <th></th>\n",
       "      <th>UUID</th>\n",
       "      <th>APPROVAL_ID</th>\n",
       "      <th>DISPLAY_NAME</th>\n",
       "      <th>RN</th>\n",
       "      <th>EC</th>\n",
       "      <th>NCIT</th>\n",
       "      <th>RXCUI</th>\n",
       "      <th>PUBCHEM</th>\n",
       "      <th>ITIS</th>\n",
       "      <th>NCBI</th>\n",
       "      <th>...</th>\n",
       "      <th>USAN_ID</th>\n",
       "      <th>MF</th>\n",
       "      <th>INCHIKEY</th>\n",
       "      <th>SMILES</th>\n",
       "      <th>INGREDIENT_TYPE</th>\n",
       "      <th>UTF8_DISPLAY_NAME</th>\n",
       "      <th>SUBSTANCE_TYPE</th>\n",
       "      <th>PROTEIN_SEQUENCE</th>\n",
       "      <th>NUCLEIC_ACID_SEQUENCE</th>\n",
       "      <th>RECORD_ACCESS_GROUPS</th>\n",
       "    </tr>\n",
       "  </thead>\n",
       "  <tbody>\n",
       "    <tr>\n",
       "      <th>0</th>\n",
       "      <td>6bac54f7-bf96-40b2-bbb7-547489a44d65</td>\n",
       "      <td>E9NGC49E0T</td>\n",
       "      <td>INDIUM IN-111</td>\n",
       "      <td>15750-15-9</td>\n",
       "      <td>NaN</td>\n",
       "      <td>C1640</td>\n",
       "      <td>90540.0</td>\n",
       "      <td>5462099.0</td>\n",
       "      <td>NaN</td>\n",
       "      <td>NaN</td>\n",
       "      <td>...</td>\n",
       "      <td>NaN</td>\n",
       "      <td>In</td>\n",
       "      <td>APFVFJFRJDLVQX-AHCXROLUSA-N</td>\n",
       "      <td>[111In]</td>\n",
       "      <td>INGREDIENT SUBSTANCE</td>\n",
       "      <td>INDIUM IN-111</td>\n",
       "      <td>chemical</td>\n",
       "      <td>NaN</td>\n",
       "      <td>NaN</td>\n",
       "      <td>NaN</td>\n",
       "    </tr>\n",
       "  </tbody>\n",
       "</table>\n",
       "<p>1 rows × 24 columns</p>\n",
       "</div>"
      ],
      "text/plain": [
       "                                   UUID APPROVAL_ID   DISPLAY_NAME  \\\n",
       "0  6bac54f7-bf96-40b2-bbb7-547489a44d65  E9NGC49E0T  INDIUM IN-111   \n",
       "\n",
       "           RN   EC   NCIT    RXCUI    PUBCHEM  ITIS  NCBI  ...  USAN_ID  MF  \\\n",
       "0  15750-15-9  NaN  C1640  90540.0  5462099.0   NaN   NaN  ...      NaN  In   \n",
       "\n",
       "                      INCHIKEY   SMILES       INGREDIENT_TYPE  \\\n",
       "0  APFVFJFRJDLVQX-AHCXROLUSA-N  [111In]  INGREDIENT SUBSTANCE   \n",
       "\n",
       "  UTF8_DISPLAY_NAME SUBSTANCE_TYPE PROTEIN_SEQUENCE NUCLEIC_ACID_SEQUENCE  \\\n",
       "0     INDIUM IN-111       chemical              NaN                   NaN   \n",
       "\n",
       "  RECORD_ACCESS_GROUPS  \n",
       "0                  NaN  \n",
       "\n",
       "[1 rows x 24 columns]"
      ]
     },
     "execution_count": 243,
     "metadata": {},
     "output_type": "execute_result"
    }
   ],
   "source": [
    "# read the data frame\n",
    "data2_smiles2 = pd.read_csv(\"export-13-04-2023_7-08-24_cleaned.csv\")\n",
    "\n",
    "# print the data frame\n",
    "print(data2_smiles2.shape)\n",
    "data2_smiles2.head(1)"
   ]
  },
  {
   "cell_type": "markdown",
   "id": "55dfcfcc",
   "metadata": {},
   "source": [
    "#### Select the required columns"
   ]
  },
  {
   "cell_type": "code",
   "execution_count": 244,
   "id": "9ec084c1",
   "metadata": {},
   "outputs": [
    {
     "name": "stdout",
     "output_type": "stream",
     "text": [
      "(10998, 4)\n"
     ]
    },
    {
     "data": {
      "text/html": [
       "<div>\n",
       "<style scoped>\n",
       "    .dataframe tbody tr th:only-of-type {\n",
       "        vertical-align: middle;\n",
       "    }\n",
       "\n",
       "    .dataframe tbody tr th {\n",
       "        vertical-align: top;\n",
       "    }\n",
       "\n",
       "    .dataframe thead th {\n",
       "        text-align: right;\n",
       "    }\n",
       "</style>\n",
       "<table border=\"1\" class=\"dataframe\">\n",
       "  <thead>\n",
       "    <tr style=\"text-align: right;\">\n",
       "      <th></th>\n",
       "      <th>APPROVAL_ID</th>\n",
       "      <th>SMILES</th>\n",
       "      <th>INCHIKEY</th>\n",
       "      <th>PUBCHEM</th>\n",
       "    </tr>\n",
       "  </thead>\n",
       "  <tbody>\n",
       "    <tr>\n",
       "      <th>0</th>\n",
       "      <td>E9NGC49E0T</td>\n",
       "      <td>[111In]</td>\n",
       "      <td>APFVFJFRJDLVQX-AHCXROLUSA-N</td>\n",
       "      <td>5462099.0</td>\n",
       "    </tr>\n",
       "  </tbody>\n",
       "</table>\n",
       "</div>"
      ],
      "text/plain": [
       "  APPROVAL_ID   SMILES                     INCHIKEY    PUBCHEM\n",
       "0  E9NGC49E0T  [111In]  APFVFJFRJDLVQX-AHCXROLUSA-N  5462099.0"
      ]
     },
     "execution_count": 244,
     "metadata": {},
     "output_type": "execute_result"
    }
   ],
   "source": [
    "# column selection from data2_APPID\n",
    "data2_smiles = data2_smiles2[[\"APPROVAL_ID\", \"SMILES\", \"INCHIKEY\", \"PUBCHEM\"]]\n",
    "\n",
    "# print the data frame\n",
    "print (data2_smiles.shape)\n",
    "data2_smiles.head(1)"
   ]
  },
  {
   "cell_type": "markdown",
   "id": "200834dc",
   "metadata": {},
   "source": [
    "<h2 style =\"color : magenta;\">  Merge \"BrowseApplications_\" & \"export_\" files on Approval_ID </h2> "
   ]
  },
  {
   "cell_type": "code",
   "execution_count": 245,
   "id": "35cb9b03",
   "metadata": {},
   "outputs": [
    {
     "name": "stdout",
     "output_type": "stream",
     "text": [
      "(80978, 5)\n"
     ]
    },
    {
     "data": {
      "text/html": [
       "<div>\n",
       "<style scoped>\n",
       "    .dataframe tbody tr th:only-of-type {\n",
       "        vertical-align: middle;\n",
       "    }\n",
       "\n",
       "    .dataframe tbody tr th {\n",
       "        vertical-align: top;\n",
       "    }\n",
       "\n",
       "    .dataframe thead th {\n",
       "        text-align: right;\n",
       "    }\n",
       "</style>\n",
       "<table border=\"1\" class=\"dataframe\">\n",
       "  <thead>\n",
       "    <tr style=\"text-align: right;\">\n",
       "      <th></th>\n",
       "      <th>APPID</th>\n",
       "      <th>APPROVAL_ID</th>\n",
       "      <th>SMILES</th>\n",
       "      <th>INCHIKEY</th>\n",
       "      <th>PUBCHEM</th>\n",
       "    </tr>\n",
       "  </thead>\n",
       "  <tbody>\n",
       "    <tr>\n",
       "      <th>0</th>\n",
       "      <td>IND-61257</td>\n",
       "      <td>1ZNY4FKK9H</td>\n",
       "      <td>Nc1ccccc1NC(=O)c2ccc(CNC(=O)OCc3cccnc3)cc2</td>\n",
       "      <td>INVTYAOGFAGBOE-UHFFFAOYSA-N</td>\n",
       "      <td>4261.0</td>\n",
       "    </tr>\n",
       "  </tbody>\n",
       "</table>\n",
       "</div>"
      ],
      "text/plain": [
       "       APPID APPROVAL_ID                                      SMILES  \\\n",
       "0  IND-61257  1ZNY4FKK9H  Nc1ccccc1NC(=O)c2ccc(CNC(=O)OCc3cccnc3)cc2   \n",
       "\n",
       "                      INCHIKEY  PUBCHEM  \n",
       "0  INVTYAOGFAGBOE-UHFFFAOYSA-N   4261.0  "
      ]
     },
     "execution_count": 245,
     "metadata": {},
     "output_type": "execute_result"
    }
   ],
   "source": [
    "# Merge \"BrowseApplications_\" & \"export_\" files on Approval_ID\n",
    "\n",
    "merged_on_Approval_ID = pd.merge(data_APPID, data2_smiles, on = \"APPROVAL_ID\", how=\"inner\")\n",
    "\n",
    "# print data frame\n",
    "print(merged_on_Approval_ID.shape)\n",
    "merged_on_Approval_ID.head(1)"
   ]
  },
  {
   "cell_type": "code",
   "execution_count": 246,
   "id": "e89ef2f9",
   "metadata": {},
   "outputs": [],
   "source": [
    "#Write the \n",
    "#merged_on_Approval_ID.to_csv(\"merged_on_Approval_ID.csv\", index = False)"
   ]
  },
  {
   "cell_type": "markdown",
   "id": "5d55c934",
   "metadata": {},
   "source": [
    "<h2 style =\"color : red;\"> ~Inner join 'zscore' and ''GSRS_merged' data frame on 'APPID'~ </h2> \n",
    "\n",
    "<ul style=\"color:brown;\">\n",
    "    <li>merging 'zscore' data with the 'gsrsmerged' data </li>\n",
    "    </ul>\n",
    "\n"
   ]
  },
  {
   "cell_type": "markdown",
   "id": "73e1b82f",
   "metadata": {},
   "source": [
    "<h3 style =\"color : navy;\"> Read \"zscore.csv\" for merging </h3> "
   ]
  },
  {
   "cell_type": "code",
   "execution_count": 247,
   "id": "a924124b",
   "metadata": {},
   "outputs": [
    {
     "name": "stdout",
     "output_type": "stream",
     "text": [
      "(12414, 11)\n"
     ]
    },
    {
     "data": {
      "text/html": [
       "<div>\n",
       "<style scoped>\n",
       "    .dataframe tbody tr th:only-of-type {\n",
       "        vertical-align: middle;\n",
       "    }\n",
       "\n",
       "    .dataframe tbody tr th {\n",
       "        vertical-align: top;\n",
       "    }\n",
       "\n",
       "    .dataframe thead th {\n",
       "        text-align: right;\n",
       "    }\n",
       "</style>\n",
       "<table border=\"1\" class=\"dataframe\">\n",
       "  <thead>\n",
       "    <tr style=\"text-align: right;\">\n",
       "      <th></th>\n",
       "      <th>APPID</th>\n",
       "      <th>SEX</th>\n",
       "      <th>STUDYID</th>\n",
       "      <th>USUBJID</th>\n",
       "      <th>zscore</th>\n",
       "      <th>mean_BWSTRESN</th>\n",
       "      <th>sd_BWSTRESN</th>\n",
       "      <th>BWSTRESN</th>\n",
       "      <th>BWSTRESU</th>\n",
       "      <th>TSSPECIES</th>\n",
       "      <th>TRTDOSLEVEL</th>\n",
       "    </tr>\n",
       "  </thead>\n",
       "  <tbody>\n",
       "    <tr>\n",
       "      <th>0</th>\n",
       "      <td>IND153467</td>\n",
       "      <td>F</td>\n",
       "      <td>00303-201048</td>\n",
       "      <td>00303-201048-187730</td>\n",
       "      <td>-5.018124</td>\n",
       "      <td>250.49</td>\n",
       "      <td>10.878567</td>\n",
       "      <td>195.9</td>\n",
       "      <td>g</td>\n",
       "      <td>RAT</td>\n",
       "      <td>3.0</td>\n",
       "    </tr>\n",
       "  </tbody>\n",
       "</table>\n",
       "</div>"
      ],
      "text/plain": [
       "       APPID SEX       STUDYID              USUBJID    zscore  mean_BWSTRESN  \\\n",
       "0  IND153467   F  00303-201048  00303-201048-187730 -5.018124         250.49   \n",
       "\n",
       "   sd_BWSTRESN  BWSTRESN BWSTRESU TSSPECIES  TRTDOSLEVEL  \n",
       "0    10.878567     195.9        g       RAT          3.0  "
      ]
     },
     "execution_count": 247,
     "metadata": {},
     "output_type": "execute_result"
    }
   ],
   "source": [
    "# read the data frame\n",
    "fzscores1 = pd.read_csv(\"zscore.csv\")\n",
    "\n",
    "# print the data frame \n",
    "print(fzscores1.shape)\n",
    "fzscores1.head(1)"
   ]
  },
  {
   "cell_type": "markdown",
   "id": "91b88c4f",
   "metadata": {},
   "source": [
    "<h3 style =\"color : navy;\"> Select the required columns </h3> "
   ]
  },
  {
   "cell_type": "code",
   "execution_count": 248,
   "id": "c884baf5",
   "metadata": {},
   "outputs": [
    {
     "name": "stdout",
     "output_type": "stream",
     "text": [
      "(12414, 5)\n"
     ]
    },
    {
     "data": {
      "text/html": [
       "<div>\n",
       "<style scoped>\n",
       "    .dataframe tbody tr th:only-of-type {\n",
       "        vertical-align: middle;\n",
       "    }\n",
       "\n",
       "    .dataframe tbody tr th {\n",
       "        vertical-align: top;\n",
       "    }\n",
       "\n",
       "    .dataframe thead th {\n",
       "        text-align: right;\n",
       "    }\n",
       "</style>\n",
       "<table border=\"1\" class=\"dataframe\">\n",
       "  <thead>\n",
       "    <tr style=\"text-align: right;\">\n",
       "      <th></th>\n",
       "      <th>APPID</th>\n",
       "      <th>SEX</th>\n",
       "      <th>zscore</th>\n",
       "      <th>TSSPECIES</th>\n",
       "      <th>STUDYID</th>\n",
       "    </tr>\n",
       "  </thead>\n",
       "  <tbody>\n",
       "    <tr>\n",
       "      <th>0</th>\n",
       "      <td>IND153467</td>\n",
       "      <td>F</td>\n",
       "      <td>-5.018124</td>\n",
       "      <td>RAT</td>\n",
       "      <td>00303-201048</td>\n",
       "    </tr>\n",
       "  </tbody>\n",
       "</table>\n",
       "</div>"
      ],
      "text/plain": [
       "       APPID SEX    zscore TSSPECIES       STUDYID\n",
       "0  IND153467   F -5.018124       RAT  00303-201048"
      ]
     },
     "execution_count": 248,
     "metadata": {},
     "output_type": "execute_result"
    }
   ],
   "source": [
    "# column selection from zscore.csv\n",
    "fzscores = fzscores1[[\"APPID\",\"SEX\", \"zscore\",\"TSSPECIES\", \"STUDYID\"]]\n",
    "\n",
    "# Print\n",
    "print(fzscores.shape)\n",
    "fzscores.head(1)"
   ]
  },
  {
   "cell_type": "markdown",
   "id": "06c764ce",
   "metadata": {},
   "source": [
    "<h3 style =\"color : navy;\"> Read the 'gsrsmerged' data frame for merging </h3> "
   ]
  },
  {
   "cell_type": "code",
   "execution_count": 251,
   "id": "82db3d01",
   "metadata": {},
   "outputs": [
    {
     "name": "stdout",
     "output_type": "stream",
     "text": [
      "(80978, 5)\n"
     ]
    },
    {
     "data": {
      "text/html": [
       "<div>\n",
       "<style scoped>\n",
       "    .dataframe tbody tr th:only-of-type {\n",
       "        vertical-align: middle;\n",
       "    }\n",
       "\n",
       "    .dataframe tbody tr th {\n",
       "        vertical-align: top;\n",
       "    }\n",
       "\n",
       "    .dataframe thead th {\n",
       "        text-align: right;\n",
       "    }\n",
       "</style>\n",
       "<table border=\"1\" class=\"dataframe\">\n",
       "  <thead>\n",
       "    <tr style=\"text-align: right;\">\n",
       "      <th></th>\n",
       "      <th>APPID</th>\n",
       "      <th>APPROVAL_ID</th>\n",
       "      <th>SMILES</th>\n",
       "      <th>INCHIKEY</th>\n",
       "      <th>PUBCHEM</th>\n",
       "    </tr>\n",
       "  </thead>\n",
       "  <tbody>\n",
       "    <tr>\n",
       "      <th>0</th>\n",
       "      <td>IND16361</td>\n",
       "      <td>E9NGC49E0T</td>\n",
       "      <td>[111In]</td>\n",
       "      <td>APFVFJFRJDLVQX-AHCXROLUSA-N</td>\n",
       "      <td>5462099.0</td>\n",
       "    </tr>\n",
       "  </tbody>\n",
       "</table>\n",
       "</div>"
      ],
      "text/plain": [
       "      APPID APPROVAL_ID   SMILES                     INCHIKEY    PUBCHEM\n",
       "0  IND16361  E9NGC49E0T  [111In]  APFVFJFRJDLVQX-AHCXROLUSA-N  5462099.0"
      ]
     },
     "execution_count": 251,
     "metadata": {},
     "output_type": "execute_result"
    }
   ],
   "source": [
    "## merging data based on a column ( APPID column)\n",
    "gsrsmerged =  pd.read_csv(\"merged_on_Approval_ID_cleaned.csv\")\n",
    "\n",
    "# print\n",
    "print(gsrsmerged.shape)\n",
    "gsrsmerged.head(1)"
   ]
  },
  {
   "cell_type": "markdown",
   "id": "e7dfcc71",
   "metadata": {},
   "source": [
    "<h2 style =\"color :  maroon;\"> Merging on = \"APPID\" column</h2> "
   ]
  },
  {
   "cell_type": "code",
   "execution_count": 258,
   "id": "57c38c75",
   "metadata": {},
   "outputs": [
    {
     "name": "stdout",
     "output_type": "stream",
     "text": [
      "(3054, 9)\n"
     ]
    },
    {
     "data": {
      "text/html": [
       "<div>\n",
       "<style scoped>\n",
       "    .dataframe tbody tr th:only-of-type {\n",
       "        vertical-align: middle;\n",
       "    }\n",
       "\n",
       "    .dataframe tbody tr th {\n",
       "        vertical-align: top;\n",
       "    }\n",
       "\n",
       "    .dataframe thead th {\n",
       "        text-align: right;\n",
       "    }\n",
       "</style>\n",
       "<table border=\"1\" class=\"dataframe\">\n",
       "  <thead>\n",
       "    <tr style=\"text-align: right;\">\n",
       "      <th></th>\n",
       "      <th>APPID</th>\n",
       "      <th>APPROVAL_ID</th>\n",
       "      <th>SMILES</th>\n",
       "      <th>INCHIKEY</th>\n",
       "      <th>PUBCHEM</th>\n",
       "      <th>SEX</th>\n",
       "      <th>zscore</th>\n",
       "      <th>TSSPECIES</th>\n",
       "      <th>STUDYID</th>\n",
       "    </tr>\n",
       "  </thead>\n",
       "  <tbody>\n",
       "    <tr>\n",
       "      <th>0</th>\n",
       "      <td>IND153097</td>\n",
       "      <td>69GCA2KX22</td>\n",
       "      <td>[2H][C@@](C)(NC(=O)COC(F)F)c1cc(F)cc(Cl)c1COc2...</td>\n",
       "      <td>ZTCLCSCHTACERP-WTDRUJNCSA-N</td>\n",
       "      <td>154623230.0</td>\n",
       "      <td>F</td>\n",
       "      <td>-1.120599</td>\n",
       "      <td>RAT</td>\n",
       "      <td>8413087</td>\n",
       "    </tr>\n",
       "  </tbody>\n",
       "</table>\n",
       "</div>"
      ],
      "text/plain": [
       "       APPID APPROVAL_ID                                             SMILES  \\\n",
       "0  IND153097  69GCA2KX22  [2H][C@@](C)(NC(=O)COC(F)F)c1cc(F)cc(Cl)c1COc2...   \n",
       "\n",
       "                      INCHIKEY      PUBCHEM SEX    zscore TSSPECIES  STUDYID  \n",
       "0  ZTCLCSCHTACERP-WTDRUJNCSA-N  154623230.0   F -1.120599       RAT  8413087  "
      ]
     },
     "execution_count": 258,
     "metadata": {},
     "output_type": "execute_result"
    }
   ],
   "source": [
    "# merge two data frames using the merge() function \n",
    "finalmerged1 = pd.merge(gsrsmerged, fzscores, on=\"APPID\")\n",
    "\n",
    "# print\n",
    "print(finalmerged1.shape)\n",
    "finalmerged1.head(1)"
   ]
  },
  {
   "cell_type": "markdown",
   "id": "93686676",
   "metadata": {},
   "source": [
    "<h2 style =\"color :  brown;\"> Re-organize the columns </h2> "
   ]
  },
  {
   "cell_type": "code",
   "execution_count": 259,
   "id": "0ef994d3",
   "metadata": {},
   "outputs": [
    {
     "name": "stdout",
     "output_type": "stream",
     "text": [
      "(3054, 5)\n"
     ]
    },
    {
     "data": {
      "text/html": [
       "<div>\n",
       "<style scoped>\n",
       "    .dataframe tbody tr th:only-of-type {\n",
       "        vertical-align: middle;\n",
       "    }\n",
       "\n",
       "    .dataframe tbody tr th {\n",
       "        vertical-align: top;\n",
       "    }\n",
       "\n",
       "    .dataframe thead th {\n",
       "        text-align: right;\n",
       "    }\n",
       "</style>\n",
       "<table border=\"1\" class=\"dataframe\">\n",
       "  <thead>\n",
       "    <tr style=\"text-align: right;\">\n",
       "      <th></th>\n",
       "      <th>STUDYID</th>\n",
       "      <th>SMILES</th>\n",
       "      <th>zscore</th>\n",
       "      <th>TSSPECIES</th>\n",
       "      <th>SEX</th>\n",
       "    </tr>\n",
       "  </thead>\n",
       "  <tbody>\n",
       "    <tr>\n",
       "      <th>0</th>\n",
       "      <td>8413087</td>\n",
       "      <td>[2H][C@@](C)(NC(=O)COC(F)F)c1cc(F)cc(Cl)c1COc2...</td>\n",
       "      <td>-1.120599</td>\n",
       "      <td>RAT</td>\n",
       "      <td>F</td>\n",
       "    </tr>\n",
       "  </tbody>\n",
       "</table>\n",
       "</div>"
      ],
      "text/plain": [
       "   STUDYID                                             SMILES    zscore  \\\n",
       "0  8413087  [2H][C@@](C)(NC(=O)COC(F)F)c1cc(F)cc(Cl)c1COc2... -1.120599   \n",
       "\n",
       "  TSSPECIES SEX  \n",
       "0       RAT   F  "
      ]
     },
     "execution_count": 259,
     "metadata": {},
     "output_type": "execute_result"
    }
   ],
   "source": [
    "# Reorganize the column of the finalmerged1\n",
    "finalmerged2 =  finalmerged1 [[\"STUDYID\",\"SMILES\",\"zscore\",\"TSSPECIES\", \"SEX\"]]\n",
    "\n",
    "# Print\n",
    "print(finalmerged2.shape)\n",
    "finalmerged2.head(1)"
   ]
  },
  {
   "cell_type": "markdown",
   "id": "21fe175a",
   "metadata": {},
   "source": [
    "[<h3 style =\"color :  brown;\"> Filtering rows having no 'smile string' in \"SMILES\" column </h3> "
   ]
  },
  {
   "cell_type": "markdown",
   "id": "7ea987c9",
   "metadata": {},
   "source": [
    "##\n",
    "#finalmerged1.to_csv(\"finalmerged1.csv\", index = False)"
   ]
  },
  {
   "cell_type": "code",
   "execution_count": 260,
   "id": "ca42a08f",
   "metadata": {},
   "outputs": [
    {
     "name": "stdout",
     "output_type": "stream",
     "text": [
      "(3054, 5)\n"
     ]
    },
    {
     "data": {
      "text/html": [
       "<div>\n",
       "<style scoped>\n",
       "    .dataframe tbody tr th:only-of-type {\n",
       "        vertical-align: middle;\n",
       "    }\n",
       "\n",
       "    .dataframe tbody tr th {\n",
       "        vertical-align: top;\n",
       "    }\n",
       "\n",
       "    .dataframe thead th {\n",
       "        text-align: right;\n",
       "    }\n",
       "</style>\n",
       "<table border=\"1\" class=\"dataframe\">\n",
       "  <thead>\n",
       "    <tr style=\"text-align: right;\">\n",
       "      <th></th>\n",
       "      <th>STUDYID</th>\n",
       "      <th>SMILES</th>\n",
       "      <th>zscore</th>\n",
       "      <th>TSSPECIES</th>\n",
       "      <th>SEX</th>\n",
       "    </tr>\n",
       "  </thead>\n",
       "  <tbody>\n",
       "    <tr>\n",
       "      <th>0</th>\n",
       "      <td>8413087</td>\n",
       "      <td>[2H][C@@](C)(NC(=O)COC(F)F)c1cc(F)cc(Cl)c1COc2...</td>\n",
       "      <td>-1.120599</td>\n",
       "      <td>RAT</td>\n",
       "      <td>F</td>\n",
       "    </tr>\n",
       "  </tbody>\n",
       "</table>\n",
       "</div>"
      ],
      "text/plain": [
       "   STUDYID                                             SMILES    zscore  \\\n",
       "0  8413087  [2H][C@@](C)(NC(=O)COC(F)F)c1cc(F)cc(Cl)c1COc2... -1.120599   \n",
       "\n",
       "  TSSPECIES SEX  \n",
       "0       RAT   F  "
      ]
     },
     "execution_count": 260,
     "metadata": {},
     "output_type": "execute_result"
    }
   ],
   "source": [
    "## Filter to remove the rows not having SMILES \n",
    "finalmerged = finalmerged2.dropna(subset=['SMILES'])\n",
    "\n",
    "# print\n",
    "print(finalmerged.shape)\n",
    "finalmerged.head(1)"
   ]
  },
  {
   "cell_type": "markdown",
   "id": "603e1b2a",
   "metadata": {},
   "source": [
    "<h2 style =\"color : navy;\">  Write the finalmerged as csv file </h2> \n",
    "   <ul style=\"color:red;\">\n",
    "    <li>finalmerged.to_csv(\"merged_Smiles_zscores3054.csv\", index = False)</li>\n",
    "    </ul>\n"
   ]
  },
  {
   "cell_type": "code",
   "execution_count": 261,
   "id": "81f8209f",
   "metadata": {},
   "outputs": [],
   "source": [
    "# write the finalmerged as csv file \n",
    "#finalmerged.to_csv(\"merged_Smiles_zscores3054.csv\", index = False)"
   ]
  },
  {
   "cell_type": "markdown",
   "id": "540014f0",
   "metadata": {},
   "source": [
    "<h2 style =\"color : navy;\">  Incorporating calculated descriptor in \"merged_Smiles_zscores3054.csv\" </h2> \n",
    "   <ul style=\"color:red;\">\n",
    "    <li>preciously calculated descriptors are merged here</li>\n",
    "    </ul>"
   ]
  },
  {
   "cell_type": "markdown",
   "id": "2f513229",
   "metadata": {},
   "source": [
    "<h3 style =\"color :  red;\"> Change the column name \"Unnamed: 0\" to \"SMILES1\"  </h3> \n",
    " <ul style=\"color:red;\">\n",
    "    <li>during csv file creation, if index = False, </li>\n",
    "    <li>created data frame's first column will be \"Unnamed: 0\" </li>\n",
    "    </ul>"
   ]
  },
  {
   "cell_type": "markdown",
   "id": "34ca6567",
   "metadata": {},
   "source": [
    "<h2 style =\"color : navy;\">  Merging data frame on  \"SMILES\" column </h2> \n",
    "   <ul style=\"color:red;\">\n",
    "    <li>.................................................</li>\n",
    "    </ul>"
   ]
  },
  {
   "cell_type": "markdown",
   "id": "2966b1e8",
   "metadata": {},
   "source": [
    "<h2 style =\"color : navy;\">  Create data frame having \"unique SMILES\" column from merged_Smiles_zscores3054.csv </h2> \n",
    "   <ul style=\"color:red;\">\n",
    "    <li>UNIQUE \"SMILES\"</li>\n",
    "    </ul>"
   ]
  },
  {
   "cell_type": "code",
   "execution_count": 298,
   "id": "ef788e66",
   "metadata": {},
   "outputs": [
    {
     "name": "stdout",
     "output_type": "stream",
     "text": [
      "(582,)\n"
     ]
    },
    {
     "data": {
      "text/html": [
       "<div>\n",
       "<style scoped>\n",
       "    .dataframe tbody tr th:only-of-type {\n",
       "        vertical-align: middle;\n",
       "    }\n",
       "\n",
       "    .dataframe tbody tr th {\n",
       "        vertical-align: top;\n",
       "    }\n",
       "\n",
       "    .dataframe thead th {\n",
       "        text-align: right;\n",
       "    }\n",
       "</style>\n",
       "<table border=\"1\" class=\"dataframe\">\n",
       "  <thead>\n",
       "    <tr style=\"text-align: right;\">\n",
       "      <th></th>\n",
       "      <th>SMILES</th>\n",
       "    </tr>\n",
       "  </thead>\n",
       "  <tbody>\n",
       "    <tr>\n",
       "      <th>0</th>\n",
       "      <td>[2H][C@@](C)(NC(=O)COC(F)F)c1cc(F)cc(Cl)c1COc2...</td>\n",
       "    </tr>\n",
       "  </tbody>\n",
       "</table>\n",
       "</div>"
      ],
      "text/plain": [
       "                                              SMILES\n",
       "0  [2H][C@@](C)(NC(=O)COC(F)F)c1cc(F)cc(Cl)c1COc2..."
      ]
     },
     "execution_count": 298,
     "metadata": {},
     "output_type": "execute_result"
    }
   ],
   "source": [
    "# only UNIQUE Smiles file cration\n",
    "merged_Smiles_zscores3054 = pd.read_csv(\"merged_Smiles_zscores3054.csv\")\n",
    "\n",
    "unique_merged_Smiles_zscores3054 = merged_Smiles_zscores3054[\"SMILES\"].unique()\n",
    "unique_merged_Smiles_zscores3054_df = pd.DataFrame(unique_merged_Smiles_zscores3054, columns=['SMILES'])\n",
    "\n",
    "# print\n",
    "print(unique_merged_Smiles_zscores3054.shape)\n",
    "unique_merged_Smiles_zscores3054_df.head(1)\n"
   ]
  },
  {
   "cell_type": "markdown",
   "id": "35d00adc",
   "metadata": {},
   "source": [
    "<h2 style =\"color : navy;\">  Write the unique_merged_Smiles_zscores3054_df as csv file </h2> \n",
    "   <ul style=\"color:red;\">\n",
    "    <li>unique_merged_Smiles_zscores3054_df.to_csv(\"unique_merged_Smiles_zscores3054_df.csv\", index = False)</li>\n",
    "    </ul>"
   ]
  },
  {
   "cell_type": "code",
   "execution_count": 301,
   "id": "2a715993",
   "metadata": {},
   "outputs": [],
   "source": [
    "# write the smiles_1541p as csv file \n",
    "#unique_merged_Smiles_zscores3054_df.to_csv(\"unique_merged_Smiles_zscores3054_df_582.csv\", index = False)"
   ]
  },
  {
   "cell_type": "markdown",
   "id": "254e5498",
   "metadata": {},
   "source": [
    "<h2 style =\"color : navy;\">  Calculate Molecular Descriptors using \"unique_merged_Smiles_zscores3054_df\" file </h2> \n",
    "   <ul style=\"color: brown;\">\n",
    "    <li>molecular descriptor were calculated by employing docker image</li>\n",
    "    <li>molecular descriptor were calculated by mordred package </li>\n",
    "    <li>molecular descriptor were calculated by pybiomed package </li>\n",
    "    </ul>"
   ]
  },
  {
   "cell_type": "markdown",
   "id": "22fb8f3f",
   "metadata": {},
   "source": [
    "<h2 style =\"color : black;\">  Calculated Molecular Descriptors file descriptons </h2> \n",
    "   <ul style=\"color:red;\">\n",
    "    <li>from mordred- \"unique_merged_Smiles_zscores3054_df_582_desc_mordred.csv\"</li>\n",
    "    <li>from pybiomed- \".........................\"</li>\n",
    "    </ul>"
   ]
  },
  {
   "cell_type": "markdown",
   "id": "d0dab506",
   "metadata": {},
   "source": [
    "<h3 style =\"color : purple;\">  Concatenate \"merged_Smiles_zscores3054.csv\" and   \"unique_merged_Smiles_zscores3054_df_582_desc_mordred.csv\" </h3> \n",
    "<ul style=\"color:red;\">\n",
    "    <li>concatenate to get the file having..... </li>\n",
    "        <ul style=\"color:red;\">\n",
    "        <li>SMILES</li>\n",
    "        <li>zscore</li>\n",
    "        <li>species</li>\n",
    "        <li>STUDYID</li>\n",
    "        <li> Molecular descriptors</li>\n",
    "         </ul>\n",
    "    </ul>"
   ]
  },
  {
   "cell_type": "markdown",
   "id": "485c3b1d",
   "metadata": {},
   "source": [
    "<h3 style =\"color :  brown;\"> Read the \"merged_Smiles_zscores3054.csv\" data frame </h3> "
   ]
  },
  {
   "cell_type": "code",
   "execution_count": 305,
   "id": "d097e704",
   "metadata": {},
   "outputs": [
    {
     "name": "stdout",
     "output_type": "stream",
     "text": [
      "(3054, 5)\n"
     ]
    },
    {
     "data": {
      "text/html": [
       "<div>\n",
       "<style scoped>\n",
       "    .dataframe tbody tr th:only-of-type {\n",
       "        vertical-align: middle;\n",
       "    }\n",
       "\n",
       "    .dataframe tbody tr th {\n",
       "        vertical-align: top;\n",
       "    }\n",
       "\n",
       "    .dataframe thead th {\n",
       "        text-align: right;\n",
       "    }\n",
       "</style>\n",
       "<table border=\"1\" class=\"dataframe\">\n",
       "  <thead>\n",
       "    <tr style=\"text-align: right;\">\n",
       "      <th></th>\n",
       "      <th>STUDYID</th>\n",
       "      <th>SMILES</th>\n",
       "      <th>zscore</th>\n",
       "      <th>TSSPECIES</th>\n",
       "      <th>SEX</th>\n",
       "    </tr>\n",
       "  </thead>\n",
       "  <tbody>\n",
       "    <tr>\n",
       "      <th>0</th>\n",
       "      <td>8413087</td>\n",
       "      <td>[2H][C@@](C)(NC(=O)COC(F)F)c1cc(F)cc(Cl)c1COc2...</td>\n",
       "      <td>-1.120599</td>\n",
       "      <td>RAT</td>\n",
       "      <td>F</td>\n",
       "    </tr>\n",
       "  </tbody>\n",
       "</table>\n",
       "</div>"
      ],
      "text/plain": [
       "   STUDYID                                             SMILES    zscore  \\\n",
       "0  8413087  [2H][C@@](C)(NC(=O)COC(F)F)c1cc(F)cc(Cl)c1COc2... -1.120599   \n",
       "\n",
       "  TSSPECIES SEX  \n",
       "0       RAT   F  "
      ]
     },
     "execution_count": 305,
     "metadata": {},
     "output_type": "execute_result"
    }
   ],
   "source": [
    "# read the data frame \n",
    "merged_Smiles_zscores3054 = pd.read_csv(\"merged_Smiles_zscores3054.csv\")\n",
    "\n",
    "# print the data frame\n",
    "print(merged_Smiles_zscores3054.shape)\n",
    "merged_Smiles_zscores3054.head(1)"
   ]
  },
  {
   "cell_type": "markdown",
   "id": "a29c094f",
   "metadata": {},
   "source": [
    "<h3 style =\"color :  brown;\"> Read the \"unique_merged_Smiles_zscores3054_df_582_desc_mordred.csv\" data frame </h3> "
   ]
  },
  {
   "cell_type": "code",
   "execution_count": 309,
   "id": "10b0615f",
   "metadata": {},
   "outputs": [
    {
     "name": "stdout",
     "output_type": "stream",
     "text": [
      "(582, 1614)\n"
     ]
    },
    {
     "data": {
      "text/html": [
       "<div>\n",
       "<style scoped>\n",
       "    .dataframe tbody tr th:only-of-type {\n",
       "        vertical-align: middle;\n",
       "    }\n",
       "\n",
       "    .dataframe tbody tr th {\n",
       "        vertical-align: top;\n",
       "    }\n",
       "\n",
       "    .dataframe thead th {\n",
       "        text-align: right;\n",
       "    }\n",
       "</style>\n",
       "<table border=\"1\" class=\"dataframe\">\n",
       "  <thead>\n",
       "    <tr style=\"text-align: right;\">\n",
       "      <th></th>\n",
       "      <th>Unnamed: 0</th>\n",
       "      <th>ABC</th>\n",
       "      <th>ABCGG</th>\n",
       "      <th>nAcid</th>\n",
       "      <th>nBase</th>\n",
       "      <th>SpAbs_A</th>\n",
       "      <th>SpMax_A</th>\n",
       "      <th>SpDiam_A</th>\n",
       "      <th>SpAD_A</th>\n",
       "      <th>SpMAD_A</th>\n",
       "      <th>...</th>\n",
       "      <th>SRW10</th>\n",
       "      <th>TSRW10</th>\n",
       "      <th>MW</th>\n",
       "      <th>AMW</th>\n",
       "      <th>WPath</th>\n",
       "      <th>WPol</th>\n",
       "      <th>Zagreb1</th>\n",
       "      <th>Zagreb2</th>\n",
       "      <th>mZagreb1</th>\n",
       "      <th>mZagreb2</th>\n",
       "    </tr>\n",
       "  </thead>\n",
       "  <tbody>\n",
       "    <tr>\n",
       "      <th>0</th>\n",
       "      <td>[2H][C@@](C)(NC(=O)COC(F)F)c1cc(F)cc(Cl)c1COc2...</td>\n",
       "      <td>29.730254</td>\n",
       "      <td>23.609807</td>\n",
       "      <td>0</td>\n",
       "      <td>0</td>\n",
       "      <td>47.15190719</td>\n",
       "      <td>2.490985125</td>\n",
       "      <td>4.968328185</td>\n",
       "      <td>47.15190719</td>\n",
       "      <td>1.240839663</td>\n",
       "      <td>...</td>\n",
       "      <td>10.642397</td>\n",
       "      <td>88.654731</td>\n",
       "      <td>534.150429</td>\n",
       "      <td>8.902507</td>\n",
       "      <td>4808.0</td>\n",
       "      <td>63</td>\n",
       "      <td>202</td>\n",
       "      <td>238</td>\n",
       "      <td>14.25694444</td>\n",
       "      <td>8.152778</td>\n",
       "    </tr>\n",
       "  </tbody>\n",
       "</table>\n",
       "<p>1 rows × 1614 columns</p>\n",
       "</div>"
      ],
      "text/plain": [
       "                                          Unnamed: 0        ABC      ABCGG  \\\n",
       "0  [2H][C@@](C)(NC(=O)COC(F)F)c1cc(F)cc(Cl)c1COc2...  29.730254  23.609807   \n",
       "\n",
       "   nAcid  nBase      SpAbs_A      SpMax_A     SpDiam_A       SpAD_A  \\\n",
       "0      0      0  47.15190719  2.490985125  4.968328185  47.15190719   \n",
       "\n",
       "       SpMAD_A  ...      SRW10     TSRW10          MW       AMW   WPath WPol  \\\n",
       "0  1.240839663  ...  10.642397  88.654731  534.150429  8.902507  4808.0   63   \n",
       "\n",
       "  Zagreb1  Zagreb2     mZagreb1  mZagreb2  \n",
       "0     202      238  14.25694444  8.152778  \n",
       "\n",
       "[1 rows x 1614 columns]"
      ]
     },
     "execution_count": 309,
     "metadata": {},
     "output_type": "execute_result"
    }
   ],
   "source": [
    "# read the data frame\n",
    "unique_merged_Smiles_zscores3054_df_582_desc_mordred = pd.read_csv  (\"unique_merged_Smiles_zscores3054_df_582_desc_mordred.csv\")\n",
    "\n",
    "# print\n",
    "print(unique_merged_Smiles_zscores3054_df_582_desc_mordred.shape)\n",
    "unique_merged_Smiles_zscores3054_df_582_desc_mordred.head(1)"
   ]
  },
  {
   "cell_type": "markdown",
   "id": "a25a14cf",
   "metadata": {},
   "source": [
    "<h3 style =\"color :  red;\"> Change the column name \"Unnamed: 0\" to \"SMILES\"  </h3> \n",
    " <ul style=\"color:red;\">\n",
    "    <li>during csv file creation, if index = False, </li>\n",
    "    <li>created data frame's first column will be \"Unnamed: 0\" </li>\n",
    "    </ul>"
   ]
  },
  {
   "cell_type": "code",
   "execution_count": 310,
   "id": "752c902b",
   "metadata": {},
   "outputs": [
    {
     "name": "stdout",
     "output_type": "stream",
     "text": [
      "(582, 1614)\n"
     ]
    },
    {
     "data": {
      "text/html": [
       "<div>\n",
       "<style scoped>\n",
       "    .dataframe tbody tr th:only-of-type {\n",
       "        vertical-align: middle;\n",
       "    }\n",
       "\n",
       "    .dataframe tbody tr th {\n",
       "        vertical-align: top;\n",
       "    }\n",
       "\n",
       "    .dataframe thead th {\n",
       "        text-align: right;\n",
       "    }\n",
       "</style>\n",
       "<table border=\"1\" class=\"dataframe\">\n",
       "  <thead>\n",
       "    <tr style=\"text-align: right;\">\n",
       "      <th></th>\n",
       "      <th>SMILES</th>\n",
       "      <th>ABC</th>\n",
       "      <th>ABCGG</th>\n",
       "      <th>nAcid</th>\n",
       "      <th>nBase</th>\n",
       "      <th>SpAbs_A</th>\n",
       "      <th>SpMax_A</th>\n",
       "      <th>SpDiam_A</th>\n",
       "      <th>SpAD_A</th>\n",
       "      <th>SpMAD_A</th>\n",
       "      <th>...</th>\n",
       "      <th>SRW10</th>\n",
       "      <th>TSRW10</th>\n",
       "      <th>MW</th>\n",
       "      <th>AMW</th>\n",
       "      <th>WPath</th>\n",
       "      <th>WPol</th>\n",
       "      <th>Zagreb1</th>\n",
       "      <th>Zagreb2</th>\n",
       "      <th>mZagreb1</th>\n",
       "      <th>mZagreb2</th>\n",
       "    </tr>\n",
       "  </thead>\n",
       "  <tbody>\n",
       "    <tr>\n",
       "      <th>0</th>\n",
       "      <td>[2H][C@@](C)(NC(=O)COC(F)F)c1cc(F)cc(Cl)c1COc2...</td>\n",
       "      <td>29.730254</td>\n",
       "      <td>23.609807</td>\n",
       "      <td>0</td>\n",
       "      <td>0</td>\n",
       "      <td>47.15190719</td>\n",
       "      <td>2.490985125</td>\n",
       "      <td>4.968328185</td>\n",
       "      <td>47.15190719</td>\n",
       "      <td>1.240839663</td>\n",
       "      <td>...</td>\n",
       "      <td>10.642397</td>\n",
       "      <td>88.654731</td>\n",
       "      <td>534.150429</td>\n",
       "      <td>8.902507</td>\n",
       "      <td>4808.0</td>\n",
       "      <td>63</td>\n",
       "      <td>202</td>\n",
       "      <td>238</td>\n",
       "      <td>14.25694444</td>\n",
       "      <td>8.152778</td>\n",
       "    </tr>\n",
       "  </tbody>\n",
       "</table>\n",
       "<p>1 rows × 1614 columns</p>\n",
       "</div>"
      ],
      "text/plain": [
       "                                              SMILES        ABC      ABCGG  \\\n",
       "0  [2H][C@@](C)(NC(=O)COC(F)F)c1cc(F)cc(Cl)c1COc2...  29.730254  23.609807   \n",
       "\n",
       "   nAcid  nBase      SpAbs_A      SpMax_A     SpDiam_A       SpAD_A  \\\n",
       "0      0      0  47.15190719  2.490985125  4.968328185  47.15190719   \n",
       "\n",
       "       SpMAD_A  ...      SRW10     TSRW10          MW       AMW   WPath WPol  \\\n",
       "0  1.240839663  ...  10.642397  88.654731  534.150429  8.902507  4808.0   63   \n",
       "\n",
       "  Zagreb1  Zagreb2     mZagreb1  mZagreb2  \n",
       "0     202      238  14.25694444  8.152778  \n",
       "\n",
       "[1 rows x 1614 columns]"
      ]
     },
     "execution_count": 310,
     "metadata": {},
     "output_type": "execute_result"
    }
   ],
   "source": [
    "# change the column name \"Unnamed: 0\" to \"SMILES1\" \n",
    "unique_merged_Smiles_zscores3054_df_582_desc_mordred.rename(columns={'Unnamed: 0': 'SMILES'}, inplace=True)\n",
    "\n",
    "# print the data frame \n",
    "print(unique_merged_Smiles_zscores3054_df_582_desc_mordred.shape)\n",
    "unique_merged_Smiles_zscores3054_df_582_desc_mordred.head(1)"
   ]
  },
  {
   "cell_type": "markdown",
   "id": "3b8481d0",
   "metadata": {},
   "source": [
    "<h3 style =\"color :  brown;\"> Concatenate two dataframes </h3> "
   ]
  },
  {
   "cell_type": "code",
   "execution_count": 315,
   "id": "e4a778d3",
   "metadata": {},
   "outputs": [
    {
     "name": "stdout",
     "output_type": "stream",
     "text": [
      "(3054, 1618)\n"
     ]
    },
    {
     "data": {
      "text/html": [
       "<div>\n",
       "<style scoped>\n",
       "    .dataframe tbody tr th:only-of-type {\n",
       "        vertical-align: middle;\n",
       "    }\n",
       "\n",
       "    .dataframe tbody tr th {\n",
       "        vertical-align: top;\n",
       "    }\n",
       "\n",
       "    .dataframe thead th {\n",
       "        text-align: right;\n",
       "    }\n",
       "</style>\n",
       "<table border=\"1\" class=\"dataframe\">\n",
       "  <thead>\n",
       "    <tr style=\"text-align: right;\">\n",
       "      <th></th>\n",
       "      <th>STUDYID</th>\n",
       "      <th>SMILES</th>\n",
       "      <th>zscore</th>\n",
       "      <th>TSSPECIES</th>\n",
       "      <th>SEX</th>\n",
       "      <th>ABC</th>\n",
       "      <th>ABCGG</th>\n",
       "      <th>nAcid</th>\n",
       "      <th>nBase</th>\n",
       "      <th>SpAbs_A</th>\n",
       "      <th>...</th>\n",
       "      <th>SRW10</th>\n",
       "      <th>TSRW10</th>\n",
       "      <th>MW</th>\n",
       "      <th>AMW</th>\n",
       "      <th>WPath</th>\n",
       "      <th>WPol</th>\n",
       "      <th>Zagreb1</th>\n",
       "      <th>Zagreb2</th>\n",
       "      <th>mZagreb1</th>\n",
       "      <th>mZagreb2</th>\n",
       "    </tr>\n",
       "  </thead>\n",
       "  <tbody>\n",
       "    <tr>\n",
       "      <th>0</th>\n",
       "      <td>8413087</td>\n",
       "      <td>[2H][C@@](C)(NC(=O)COC(F)F)c1cc(F)cc(Cl)c1COc2...</td>\n",
       "      <td>-1.120599</td>\n",
       "      <td>RAT</td>\n",
       "      <td>F</td>\n",
       "      <td>29.730254</td>\n",
       "      <td>23.609807</td>\n",
       "      <td>0</td>\n",
       "      <td>0</td>\n",
       "      <td>47.15190719</td>\n",
       "      <td>...</td>\n",
       "      <td>10.642397</td>\n",
       "      <td>88.654731</td>\n",
       "      <td>534.150429</td>\n",
       "      <td>8.902507</td>\n",
       "      <td>4808.0</td>\n",
       "      <td>63</td>\n",
       "      <td>202</td>\n",
       "      <td>238</td>\n",
       "      <td>14.25694444</td>\n",
       "      <td>8.152778</td>\n",
       "    </tr>\n",
       "    <tr>\n",
       "      <th>1</th>\n",
       "      <td>8413087</td>\n",
       "      <td>[2H][C@@](C)(NC(=O)COC(F)F)c1cc(F)cc(Cl)c1COc2...</td>\n",
       "      <td>-1.648424</td>\n",
       "      <td>RAT</td>\n",
       "      <td>M</td>\n",
       "      <td>29.730254</td>\n",
       "      <td>23.609807</td>\n",
       "      <td>0</td>\n",
       "      <td>0</td>\n",
       "      <td>47.15190719</td>\n",
       "      <td>...</td>\n",
       "      <td>10.642397</td>\n",
       "      <td>88.654731</td>\n",
       "      <td>534.150429</td>\n",
       "      <td>8.902507</td>\n",
       "      <td>4808.0</td>\n",
       "      <td>63</td>\n",
       "      <td>202</td>\n",
       "      <td>238</td>\n",
       "      <td>14.25694444</td>\n",
       "      <td>8.152778</td>\n",
       "    </tr>\n",
       "    <tr>\n",
       "      <th>2</th>\n",
       "      <td>8413088</td>\n",
       "      <td>[2H][C@@](C)(NC(=O)COC(F)F)c1cc(F)cc(Cl)c1COc2...</td>\n",
       "      <td>1.567991</td>\n",
       "      <td>MONKEY</td>\n",
       "      <td>F</td>\n",
       "      <td>29.730254</td>\n",
       "      <td>23.609807</td>\n",
       "      <td>0</td>\n",
       "      <td>0</td>\n",
       "      <td>47.15190719</td>\n",
       "      <td>...</td>\n",
       "      <td>10.642397</td>\n",
       "      <td>88.654731</td>\n",
       "      <td>534.150429</td>\n",
       "      <td>8.902507</td>\n",
       "      <td>4808.0</td>\n",
       "      <td>63</td>\n",
       "      <td>202</td>\n",
       "      <td>238</td>\n",
       "      <td>14.25694444</td>\n",
       "      <td>8.152778</td>\n",
       "    </tr>\n",
       "    <tr>\n",
       "      <th>3</th>\n",
       "      <td>8413088</td>\n",
       "      <td>[2H][C@@](C)(NC(=O)COC(F)F)c1cc(F)cc(Cl)c1COc2...</td>\n",
       "      <td>-0.449479</td>\n",
       "      <td>MONKEY</td>\n",
       "      <td>M</td>\n",
       "      <td>29.730254</td>\n",
       "      <td>23.609807</td>\n",
       "      <td>0</td>\n",
       "      <td>0</td>\n",
       "      <td>47.15190719</td>\n",
       "      <td>...</td>\n",
       "      <td>10.642397</td>\n",
       "      <td>88.654731</td>\n",
       "      <td>534.150429</td>\n",
       "      <td>8.902507</td>\n",
       "      <td>4808.0</td>\n",
       "      <td>63</td>\n",
       "      <td>202</td>\n",
       "      <td>238</td>\n",
       "      <td>14.25694444</td>\n",
       "      <td>8.152778</td>\n",
       "    </tr>\n",
       "    <tr>\n",
       "      <th>4</th>\n",
       "      <td>8413089</td>\n",
       "      <td>[2H][C@@](C)(NC(=O)COC(F)F)c1cc(F)cc(Cl)c1COc2...</td>\n",
       "      <td>-2.007268</td>\n",
       "      <td>MONKEY</td>\n",
       "      <td>F</td>\n",
       "      <td>29.730254</td>\n",
       "      <td>23.609807</td>\n",
       "      <td>0</td>\n",
       "      <td>0</td>\n",
       "      <td>47.15190719</td>\n",
       "      <td>...</td>\n",
       "      <td>10.642397</td>\n",
       "      <td>88.654731</td>\n",
       "      <td>534.150429</td>\n",
       "      <td>8.902507</td>\n",
       "      <td>4808.0</td>\n",
       "      <td>63</td>\n",
       "      <td>202</td>\n",
       "      <td>238</td>\n",
       "      <td>14.25694444</td>\n",
       "      <td>8.152778</td>\n",
       "    </tr>\n",
       "    <tr>\n",
       "      <th>5</th>\n",
       "      <td>8413089</td>\n",
       "      <td>[2H][C@@](C)(NC(=O)COC(F)F)c1cc(F)cc(Cl)c1COc2...</td>\n",
       "      <td>-0.846821</td>\n",
       "      <td>MONKEY</td>\n",
       "      <td>M</td>\n",
       "      <td>29.730254</td>\n",
       "      <td>23.609807</td>\n",
       "      <td>0</td>\n",
       "      <td>0</td>\n",
       "      <td>47.15190719</td>\n",
       "      <td>...</td>\n",
       "      <td>10.642397</td>\n",
       "      <td>88.654731</td>\n",
       "      <td>534.150429</td>\n",
       "      <td>8.902507</td>\n",
       "      <td>4808.0</td>\n",
       "      <td>63</td>\n",
       "      <td>202</td>\n",
       "      <td>238</td>\n",
       "      <td>14.25694444</td>\n",
       "      <td>8.152778</td>\n",
       "    </tr>\n",
       "    <tr>\n",
       "      <th>6</th>\n",
       "      <td>8425808</td>\n",
       "      <td>[2H][C@@](C)(NC(=O)COC(F)F)c1cc(F)cc(Cl)c1COc2...</td>\n",
       "      <td>-0.709854</td>\n",
       "      <td>RAT</td>\n",
       "      <td>F</td>\n",
       "      <td>29.730254</td>\n",
       "      <td>23.609807</td>\n",
       "      <td>0</td>\n",
       "      <td>0</td>\n",
       "      <td>47.15190719</td>\n",
       "      <td>...</td>\n",
       "      <td>10.642397</td>\n",
       "      <td>88.654731</td>\n",
       "      <td>534.150429</td>\n",
       "      <td>8.902507</td>\n",
       "      <td>4808.0</td>\n",
       "      <td>63</td>\n",
       "      <td>202</td>\n",
       "      <td>238</td>\n",
       "      <td>14.25694444</td>\n",
       "      <td>8.152778</td>\n",
       "    </tr>\n",
       "    <tr>\n",
       "      <th>7</th>\n",
       "      <td>8425808</td>\n",
       "      <td>[2H][C@@](C)(NC(=O)COC(F)F)c1cc(F)cc(Cl)c1COc2...</td>\n",
       "      <td>-1.794409</td>\n",
       "      <td>RAT</td>\n",
       "      <td>M</td>\n",
       "      <td>29.730254</td>\n",
       "      <td>23.609807</td>\n",
       "      <td>0</td>\n",
       "      <td>0</td>\n",
       "      <td>47.15190719</td>\n",
       "      <td>...</td>\n",
       "      <td>10.642397</td>\n",
       "      <td>88.654731</td>\n",
       "      <td>534.150429</td>\n",
       "      <td>8.902507</td>\n",
       "      <td>4808.0</td>\n",
       "      <td>63</td>\n",
       "      <td>202</td>\n",
       "      <td>238</td>\n",
       "      <td>14.25694444</td>\n",
       "      <td>8.152778</td>\n",
       "    </tr>\n",
       "    <tr>\n",
       "      <th>8</th>\n",
       "      <td>8440826</td>\n",
       "      <td>[2H][C@@](C)(NC(=O)COC(F)F)c1cc(F)cc(Cl)c1COc2...</td>\n",
       "      <td>-3.343210</td>\n",
       "      <td>MOUSE</td>\n",
       "      <td>F</td>\n",
       "      <td>29.730254</td>\n",
       "      <td>23.609807</td>\n",
       "      <td>0</td>\n",
       "      <td>0</td>\n",
       "      <td>47.15190719</td>\n",
       "      <td>...</td>\n",
       "      <td>10.642397</td>\n",
       "      <td>88.654731</td>\n",
       "      <td>534.150429</td>\n",
       "      <td>8.902507</td>\n",
       "      <td>4808.0</td>\n",
       "      <td>63</td>\n",
       "      <td>202</td>\n",
       "      <td>238</td>\n",
       "      <td>14.25694444</td>\n",
       "      <td>8.152778</td>\n",
       "    </tr>\n",
       "    <tr>\n",
       "      <th>9</th>\n",
       "      <td>8440826</td>\n",
       "      <td>[2H][C@@](C)(NC(=O)COC(F)F)c1cc(F)cc(Cl)c1COc2...</td>\n",
       "      <td>-1.425116</td>\n",
       "      <td>MOUSE</td>\n",
       "      <td>M</td>\n",
       "      <td>29.730254</td>\n",
       "      <td>23.609807</td>\n",
       "      <td>0</td>\n",
       "      <td>0</td>\n",
       "      <td>47.15190719</td>\n",
       "      <td>...</td>\n",
       "      <td>10.642397</td>\n",
       "      <td>88.654731</td>\n",
       "      <td>534.150429</td>\n",
       "      <td>8.902507</td>\n",
       "      <td>4808.0</td>\n",
       "      <td>63</td>\n",
       "      <td>202</td>\n",
       "      <td>238</td>\n",
       "      <td>14.25694444</td>\n",
       "      <td>8.152778</td>\n",
       "    </tr>\n",
       "  </tbody>\n",
       "</table>\n",
       "<p>10 rows × 1618 columns</p>\n",
       "</div>"
      ],
      "text/plain": [
       "   STUDYID                                             SMILES    zscore  \\\n",
       "0  8413087  [2H][C@@](C)(NC(=O)COC(F)F)c1cc(F)cc(Cl)c1COc2... -1.120599   \n",
       "1  8413087  [2H][C@@](C)(NC(=O)COC(F)F)c1cc(F)cc(Cl)c1COc2... -1.648424   \n",
       "2  8413088  [2H][C@@](C)(NC(=O)COC(F)F)c1cc(F)cc(Cl)c1COc2...  1.567991   \n",
       "3  8413088  [2H][C@@](C)(NC(=O)COC(F)F)c1cc(F)cc(Cl)c1COc2... -0.449479   \n",
       "4  8413089  [2H][C@@](C)(NC(=O)COC(F)F)c1cc(F)cc(Cl)c1COc2... -2.007268   \n",
       "5  8413089  [2H][C@@](C)(NC(=O)COC(F)F)c1cc(F)cc(Cl)c1COc2... -0.846821   \n",
       "6  8425808  [2H][C@@](C)(NC(=O)COC(F)F)c1cc(F)cc(Cl)c1COc2... -0.709854   \n",
       "7  8425808  [2H][C@@](C)(NC(=O)COC(F)F)c1cc(F)cc(Cl)c1COc2... -1.794409   \n",
       "8  8440826  [2H][C@@](C)(NC(=O)COC(F)F)c1cc(F)cc(Cl)c1COc2... -3.343210   \n",
       "9  8440826  [2H][C@@](C)(NC(=O)COC(F)F)c1cc(F)cc(Cl)c1COc2... -1.425116   \n",
       "\n",
       "  TSSPECIES SEX        ABC      ABCGG  nAcid  nBase      SpAbs_A  ...  \\\n",
       "0       RAT   F  29.730254  23.609807      0      0  47.15190719  ...   \n",
       "1       RAT   M  29.730254  23.609807      0      0  47.15190719  ...   \n",
       "2    MONKEY   F  29.730254  23.609807      0      0  47.15190719  ...   \n",
       "3    MONKEY   M  29.730254  23.609807      0      0  47.15190719  ...   \n",
       "4    MONKEY   F  29.730254  23.609807      0      0  47.15190719  ...   \n",
       "5    MONKEY   M  29.730254  23.609807      0      0  47.15190719  ...   \n",
       "6       RAT   F  29.730254  23.609807      0      0  47.15190719  ...   \n",
       "7       RAT   M  29.730254  23.609807      0      0  47.15190719  ...   \n",
       "8     MOUSE   F  29.730254  23.609807      0      0  47.15190719  ...   \n",
       "9     MOUSE   M  29.730254  23.609807      0      0  47.15190719  ...   \n",
       "\n",
       "       SRW10     TSRW10          MW       AMW   WPath WPol Zagreb1 Zagreb2  \\\n",
       "0  10.642397  88.654731  534.150429  8.902507  4808.0   63     202     238   \n",
       "1  10.642397  88.654731  534.150429  8.902507  4808.0   63     202     238   \n",
       "2  10.642397  88.654731  534.150429  8.902507  4808.0   63     202     238   \n",
       "3  10.642397  88.654731  534.150429  8.902507  4808.0   63     202     238   \n",
       "4  10.642397  88.654731  534.150429  8.902507  4808.0   63     202     238   \n",
       "5  10.642397  88.654731  534.150429  8.902507  4808.0   63     202     238   \n",
       "6  10.642397  88.654731  534.150429  8.902507  4808.0   63     202     238   \n",
       "7  10.642397  88.654731  534.150429  8.902507  4808.0   63     202     238   \n",
       "8  10.642397  88.654731  534.150429  8.902507  4808.0   63     202     238   \n",
       "9  10.642397  88.654731  534.150429  8.902507  4808.0   63     202     238   \n",
       "\n",
       "      mZagreb1  mZagreb2  \n",
       "0  14.25694444  8.152778  \n",
       "1  14.25694444  8.152778  \n",
       "2  14.25694444  8.152778  \n",
       "3  14.25694444  8.152778  \n",
       "4  14.25694444  8.152778  \n",
       "5  14.25694444  8.152778  \n",
       "6  14.25694444  8.152778  \n",
       "7  14.25694444  8.152778  \n",
       "8  14.25694444  8.152778  \n",
       "9  14.25694444  8.152778  \n",
       "\n",
       "[10 rows x 1618 columns]"
      ]
     },
     "execution_count": 315,
     "metadata": {},
     "output_type": "execute_result"
    }
   ],
   "source": [
    "# concatenate two dataframes \"merged_Smiles_zscores1541p\" and \"smiles_1541p_desc_mordred\"\n",
    "concatenated_df = pd.merge(merged_Smiles_zscores3054, unique_merged_Smiles_zscores3054_df_582_desc_mordred, on= 'SMILES')\n",
    "\n",
    "# print\n",
    "print(concatenated_df.shape)\n",
    "concatenated_df.head(10)"
   ]
  },
  {
   "cell_type": "markdown",
   "id": "30ee380d",
   "metadata": {},
   "source": [
    "<h3 style =\"color :  red;\"> Reshuffle \"concatenated_df \"  </h3> \n",
    " <ul style=\"color:red;\">\n",
    "    <li>reshuffling makes downword data processing easy </li>\n",
    "    </ul>"
   ]
  },
  {
   "cell_type": "code",
   "execution_count": 319,
   "id": "dcfc759e",
   "metadata": {},
   "outputs": [
    {
     "name": "stdout",
     "output_type": "stream",
     "text": [
      "(3054, 1618)\n"
     ]
    },
    {
     "data": {
      "text/html": [
       "<div>\n",
       "<style scoped>\n",
       "    .dataframe tbody tr th:only-of-type {\n",
       "        vertical-align: middle;\n",
       "    }\n",
       "\n",
       "    .dataframe tbody tr th {\n",
       "        vertical-align: top;\n",
       "    }\n",
       "\n",
       "    .dataframe thead th {\n",
       "        text-align: right;\n",
       "    }\n",
       "</style>\n",
       "<table border=\"1\" class=\"dataframe\">\n",
       "  <thead>\n",
       "    <tr style=\"text-align: right;\">\n",
       "      <th></th>\n",
       "      <th>STUDYID</th>\n",
       "      <th>SMILES</th>\n",
       "      <th>zscore</th>\n",
       "      <th>TSSPECIES</th>\n",
       "      <th>SEX</th>\n",
       "      <th>ABC</th>\n",
       "      <th>ABCGG</th>\n",
       "      <th>nAcid</th>\n",
       "      <th>nBase</th>\n",
       "      <th>SpAbs_A</th>\n",
       "      <th>...</th>\n",
       "      <th>SRW10</th>\n",
       "      <th>TSRW10</th>\n",
       "      <th>MW</th>\n",
       "      <th>AMW</th>\n",
       "      <th>WPath</th>\n",
       "      <th>WPol</th>\n",
       "      <th>Zagreb1</th>\n",
       "      <th>Zagreb2</th>\n",
       "      <th>mZagreb1</th>\n",
       "      <th>mZagreb2</th>\n",
       "    </tr>\n",
       "  </thead>\n",
       "  <tbody>\n",
       "    <tr>\n",
       "      <th>0</th>\n",
       "      <td>8413087</td>\n",
       "      <td>[2H][C@@](C)(NC(=O)COC(F)F)c1cc(F)cc(Cl)c1COc2...</td>\n",
       "      <td>-1.120599</td>\n",
       "      <td>RAT</td>\n",
       "      <td>F</td>\n",
       "      <td>29.730254</td>\n",
       "      <td>23.609807</td>\n",
       "      <td>0</td>\n",
       "      <td>0</td>\n",
       "      <td>47.15190719</td>\n",
       "      <td>...</td>\n",
       "      <td>10.642397</td>\n",
       "      <td>88.654731</td>\n",
       "      <td>534.150429</td>\n",
       "      <td>8.902507</td>\n",
       "      <td>4808.0</td>\n",
       "      <td>63</td>\n",
       "      <td>202</td>\n",
       "      <td>238</td>\n",
       "      <td>14.25694444</td>\n",
       "      <td>8.152778</td>\n",
       "    </tr>\n",
       "  </tbody>\n",
       "</table>\n",
       "<p>1 rows × 1618 columns</p>\n",
       "</div>"
      ],
      "text/plain": [
       "   STUDYID                                             SMILES    zscore  \\\n",
       "0  8413087  [2H][C@@](C)(NC(=O)COC(F)F)c1cc(F)cc(Cl)c1COc2... -1.120599   \n",
       "\n",
       "  TSSPECIES SEX        ABC      ABCGG  nAcid  nBase      SpAbs_A  ...  \\\n",
       "0       RAT   F  29.730254  23.609807      0      0  47.15190719  ...   \n",
       "\n",
       "       SRW10     TSRW10          MW       AMW   WPath WPol Zagreb1 Zagreb2  \\\n",
       "0  10.642397  88.654731  534.150429  8.902507  4808.0   63     202     238   \n",
       "\n",
       "      mZagreb1  mZagreb2  \n",
       "0  14.25694444  8.152778  \n",
       "\n",
       "[1 rows x 1618 columns]"
      ]
     },
     "execution_count": 319,
     "metadata": {},
     "output_type": "execute_result"
    }
   ],
   "source": [
    "# Reshuffling the 'concatenated_df'\n",
    "reshuffled_df = concatenated_df[['STUDYID','SMILES','zscore', 'TSSPECIES', 'SEX'] + list(concatenated_df.columns[5:])]\n",
    "\n",
    "# print the reshuffled data frmae\n",
    "print(reshuffled_df.shape)\n",
    "reshuffled_df.head(1)"
   ]
  },
  {
   "cell_type": "markdown",
   "id": "15911035",
   "metadata": {},
   "source": [
    "<h3 style =\"color : navy;\">  Write the reshuffled_df as csv file </h3> \n",
    "   <ul style=\"color:red;\">\n",
    "    <li>reshuffled_df.to_csv(\"final_merged_Smiles_zscores3054_desc_mordred.csv\", index = False)</li>\n",
    "    </ul>"
   ]
  },
  {
   "cell_type": "code",
   "execution_count": 320,
   "id": "cd9dc42c",
   "metadata": {},
   "outputs": [],
   "source": [
    "# # write the \"for_species_selection_smiles1541_desc_mordred.csv\" file \n",
    "# reshuffled_df.to_csv(\"final_merged_Smiles_zscores3054_desc_mordred.csv.csv\", index = False)"
   ]
  },
  {
   "cell_type": "markdown",
   "id": "89c948db",
   "metadata": {},
   "source": [
    " <h1 style=\"color:red;\">IMPORTANT POITNS TO BE CONSIDERED</h1>\n",
    "   <ul style=\"color:blue;\">\n",
    "    <li>select SPECIES before selecting the max zscore value</li>\n",
    "     <li>getting the unique smiles followed by max zscore selection gives smallernumber of rows</li>\n",
    "    </ul>"
   ]
  },
  {
   "cell_type": "markdown",
   "id": "5d61cd81",
   "metadata": {},
   "source": [
    "<h2 style=\"color:brown;\">         .......... SELECT THE SPECIES  ......................</h2>\n",
    "<ul style=\"color:blue;\">\n",
    "    <li>\"for_species_selection_smiles1541_desc_mordred.csv\" has all the species</li>\n",
    "     <li>select the species based on the experimental design</li>\n",
    "    </ul>"
   ]
  },
  {
   "cell_type": "markdown",
   "id": "b4163fe5",
   "metadata": {},
   "source": [
    "<h2 style=\"color:navy;\">Select the SPECIES \"RAT\"</h2>\n",
    "<ul style=\"color:blue;\">\n",
    "    <li>Column 'TSSPECIES' = \"RAT\"</li>\n",
    "    </ul>"
   ]
  },
  {
   "cell_type": "code",
   "execution_count": 321,
   "id": "878d5b64",
   "metadata": {},
   "outputs": [],
   "source": [
    "# # select the rat species only\n",
    "\n",
    "# df_rat = df[df['TSSPECIES'] == 'RAT'].copy()\n",
    "\n",
    "# # print the data frame \n",
    "# print(df_rat.shape)\n",
    "# df_rat.head(2)"
   ]
  },
  {
   "cell_type": "markdown",
   "id": "b99c38b4",
   "metadata": {},
   "source": [
    "<h2 style=\"color:navy;\">Get unique \"SMILES\" with highest \"absolute\" \"zscore\" value</h2>\n",
    "<ul style=\"color:red;\"> The reasons for selecting 'absolute highest zscore' <ul>\n",
    "    <ul style=\"color:black;\"> \n",
    "    <li>groupby \"SMILES\" and then select the highst absolute zscore</li>\n",
    "     <li>only zscore selection can select \"0\" zscore</li>\n",
    "    <li>only zscore selection will select preferentially the \"positive\" zscore</li>\n",
    "      <li>only zscore selection will create unbalanced \"zscore\" distribution</li>\n",
    "    </ul>"
   ]
  },
  {
   "cell_type": "markdown",
   "id": "af1a6eaf",
   "metadata": {},
   "source": [
    "<h2 style=\"color:purple;\">Select the rows having highest 'absolute zscore' value</h2>"
   ]
  },
  {
   "cell_type": "code",
   "execution_count": 332,
   "id": "f0d3b01c",
   "metadata": {},
   "outputs": [
    {
     "name": "stdout",
     "output_type": "stream",
     "text": [
      "(2051, 1618)\n"
     ]
    },
    {
     "data": {
      "text/html": [
       "<div>\n",
       "<style scoped>\n",
       "    .dataframe tbody tr th:only-of-type {\n",
       "        vertical-align: middle;\n",
       "    }\n",
       "\n",
       "    .dataframe tbody tr th {\n",
       "        vertical-align: top;\n",
       "    }\n",
       "\n",
       "    .dataframe thead th {\n",
       "        text-align: right;\n",
       "    }\n",
       "</style>\n",
       "<table border=\"1\" class=\"dataframe\">\n",
       "  <thead>\n",
       "    <tr style=\"text-align: right;\">\n",
       "      <th></th>\n",
       "      <th>STUDYID</th>\n",
       "      <th>SMILES</th>\n",
       "      <th>zscore</th>\n",
       "      <th>TSSPECIES</th>\n",
       "      <th>SEX</th>\n",
       "      <th>ABC</th>\n",
       "      <th>ABCGG</th>\n",
       "      <th>nAcid</th>\n",
       "      <th>nBase</th>\n",
       "      <th>SpAbs_A</th>\n",
       "      <th>...</th>\n",
       "      <th>SRW10</th>\n",
       "      <th>TSRW10</th>\n",
       "      <th>MW</th>\n",
       "      <th>AMW</th>\n",
       "      <th>WPath</th>\n",
       "      <th>WPol</th>\n",
       "      <th>Zagreb1</th>\n",
       "      <th>Zagreb2</th>\n",
       "      <th>mZagreb1</th>\n",
       "      <th>mZagreb2</th>\n",
       "    </tr>\n",
       "  </thead>\n",
       "  <tbody>\n",
       "    <tr>\n",
       "      <th>0</th>\n",
       "      <td>91103-19-529</td>\n",
       "      <td>Br.Br.CCC[C@H](N[C@H]1CCc2cc(F)cc(F)c2C1)C(=O)...</td>\n",
       "      <td>-1.230864</td>\n",
       "      <td>RAT</td>\n",
       "      <td>F</td>\n",
       "      <td>27.102784</td>\n",
       "      <td>21.266255</td>\n",
       "      <td>0</td>\n",
       "      <td>2</td>\n",
       "      <td>multiple fragments (SpAbs_A/SpAbs)</td>\n",
       "      <td>...</td>\n",
       "      <td>10.429842</td>\n",
       "      <td>87.000352</td>\n",
       "      <td>649.180242</td>\n",
       "      <td>8.114753</td>\n",
       "      <td>7.100004e+09</td>\n",
       "      <td>52</td>\n",
       "      <td>182</td>\n",
       "      <td>208</td>\n",
       "      <td>divide by zero encountered in power (mZagreb1)</td>\n",
       "      <td>7.5</td>\n",
       "    </tr>\n",
       "  </tbody>\n",
       "</table>\n",
       "<p>1 rows × 1618 columns</p>\n",
       "</div>"
      ],
      "text/plain": [
       "        STUDYID                                             SMILES    zscore  \\\n",
       "0  91103-19-529  Br.Br.CCC[C@H](N[C@H]1CCc2cc(F)cc(F)c2C1)C(=O)... -1.230864   \n",
       "\n",
       "  TSSPECIES SEX        ABC      ABCGG  nAcid  nBase  \\\n",
       "0       RAT   F  27.102784  21.266255      0      2   \n",
       "\n",
       "                              SpAbs_A  ...      SRW10     TSRW10          MW  \\\n",
       "0  multiple fragments (SpAbs_A/SpAbs)  ...  10.429842  87.000352  649.180242   \n",
       "\n",
       "        AMW         WPath WPol Zagreb1 Zagreb2  \\\n",
       "0  8.114753  7.100004e+09   52     182     208   \n",
       "\n",
       "                                         mZagreb1 mZagreb2  \n",
       "0  divide by zero encountered in power (mZagreb1)      7.5  \n",
       "\n",
       "[1 rows x 1618 columns]"
      ]
     },
     "execution_count": 332,
     "metadata": {},
     "output_type": "execute_result"
    }
   ],
   "source": [
    "# Group by 'SMILES', 'TSSPECIES', and 'SEX' and keep the one with the absolute \"max 'zscore'\"\n",
    "SMILES_SPECIES_SEX_abs_max_zscore = reshuffled_df.groupby(['SMILES', 'TSSPECIES', 'SEX']).apply(lambda x: x.loc[abs(x.zscore).idxmax()]).reset_index(drop=True)\n",
    "\n",
    "# Print the shape of the data frame\n",
    "print(SMILES_SPECIES_SEX_abs_max_zscore.shape)\n",
    "SMILES_SPECIES_SEX_abs_max_zscore.head(1)\n"
   ]
  },
  {
   "cell_type": "markdown",
   "id": "e3eb26ff",
   "metadata": {},
   "source": [
    "<h3 style=\"color:brown;\">Select the desired columns by droping one columns</h3>"
   ]
  },
  {
   "cell_type": "code",
   "execution_count": 333,
   "id": "6ac432d0",
   "metadata": {},
   "outputs": [
    {
     "name": "stdout",
     "output_type": "stream",
     "text": [
      "(2051, 1617)\n"
     ]
    },
    {
     "data": {
      "text/html": [
       "<div>\n",
       "<style scoped>\n",
       "    .dataframe tbody tr th:only-of-type {\n",
       "        vertical-align: middle;\n",
       "    }\n",
       "\n",
       "    .dataframe tbody tr th {\n",
       "        vertical-align: top;\n",
       "    }\n",
       "\n",
       "    .dataframe thead th {\n",
       "        text-align: right;\n",
       "    }\n",
       "</style>\n",
       "<table border=\"1\" class=\"dataframe\">\n",
       "  <thead>\n",
       "    <tr style=\"text-align: right;\">\n",
       "      <th></th>\n",
       "      <th>SMILES</th>\n",
       "      <th>zscore</th>\n",
       "      <th>TSSPECIES</th>\n",
       "      <th>SEX</th>\n",
       "      <th>ABC</th>\n",
       "      <th>ABCGG</th>\n",
       "      <th>nAcid</th>\n",
       "      <th>nBase</th>\n",
       "      <th>SpAbs_A</th>\n",
       "      <th>SpMax_A</th>\n",
       "      <th>...</th>\n",
       "      <th>SRW10</th>\n",
       "      <th>TSRW10</th>\n",
       "      <th>MW</th>\n",
       "      <th>AMW</th>\n",
       "      <th>WPath</th>\n",
       "      <th>WPol</th>\n",
       "      <th>Zagreb1</th>\n",
       "      <th>Zagreb2</th>\n",
       "      <th>mZagreb1</th>\n",
       "      <th>mZagreb2</th>\n",
       "    </tr>\n",
       "  </thead>\n",
       "  <tbody>\n",
       "    <tr>\n",
       "      <th>0</th>\n",
       "      <td>Br.Br.CCC[C@H](N[C@H]1CCc2cc(F)cc(F)c2C1)C(=O)...</td>\n",
       "      <td>-1.230864</td>\n",
       "      <td>RAT</td>\n",
       "      <td>F</td>\n",
       "      <td>27.102784</td>\n",
       "      <td>21.266255</td>\n",
       "      <td>0</td>\n",
       "      <td>2</td>\n",
       "      <td>multiple fragments (SpAbs_A/SpAbs)</td>\n",
       "      <td>multiple fragments (SpMax_A/SpMax)</td>\n",
       "      <td>...</td>\n",
       "      <td>10.429842</td>\n",
       "      <td>87.000352</td>\n",
       "      <td>649.180242</td>\n",
       "      <td>8.114753</td>\n",
       "      <td>7.100004e+09</td>\n",
       "      <td>52</td>\n",
       "      <td>182</td>\n",
       "      <td>208</td>\n",
       "      <td>divide by zero encountered in power (mZagreb1)</td>\n",
       "      <td>7.5</td>\n",
       "    </tr>\n",
       "  </tbody>\n",
       "</table>\n",
       "<p>1 rows × 1617 columns</p>\n",
       "</div>"
      ],
      "text/plain": [
       "                                              SMILES    zscore TSSPECIES SEX  \\\n",
       "0  Br.Br.CCC[C@H](N[C@H]1CCc2cc(F)cc(F)c2C1)C(=O)... -1.230864       RAT   F   \n",
       "\n",
       "         ABC      ABCGG  nAcid  nBase                             SpAbs_A  \\\n",
       "0  27.102784  21.266255      0      2  multiple fragments (SpAbs_A/SpAbs)   \n",
       "\n",
       "                              SpMax_A  ...      SRW10     TSRW10          MW  \\\n",
       "0  multiple fragments (SpMax_A/SpMax)  ...  10.429842  87.000352  649.180242   \n",
       "\n",
       "        AMW         WPath WPol Zagreb1 Zagreb2  \\\n",
       "0  8.114753  7.100004e+09   52     182     208   \n",
       "\n",
       "                                         mZagreb1 mZagreb2  \n",
       "0  divide by zero encountered in power (mZagreb1)      7.5  \n",
       "\n",
       "[1 rows x 1617 columns]"
      ]
     },
     "execution_count": 333,
     "metadata": {},
     "output_type": "execute_result"
    }
   ],
   "source": [
    "# select the desired columns by droping two columns\n",
    "SMILES_SPECIES_SEX_abs_max_zscore = SMILES_SPECIES_SEX_abs_max_zscore.drop(['STUDYID'], axis=1)\n",
    "\n",
    "# print the data frame\n",
    "print(SMILES_SPECIES_SEX_abs_max_zscore.shape)\n",
    "SMILES_SPECIES_SEX_abs_max_zscore.head(1)"
   ]
  },
  {
   "cell_type": "markdown",
   "id": "be93ef7c",
   "metadata": {},
   "source": [
    "<h3 style =\"color : navy;\">  Write the 'SMILES_SPECIES_SEX_abs_max_zscore' as csv file </h3> \n",
    "   <ul style=\"color:red;\">\n",
    "    <li>SMILES_SPECIES_SEX_abs_max_zscore.to_csv(\"SMILES_SPECIES_SEX_abs_max_zscore.csv\", index = False)</li>\n",
    "    </ul>"
   ]
  },
  {
   "cell_type": "code",
   "execution_count": 336,
   "id": "0d141a49",
   "metadata": {},
   "outputs": [],
   "source": [
    "# # # Write to CSV file\n",
    "# SMILES_SPECIES_SEX_abs_max_zscore.to_csv(\"SMILES_SPECIES_SEX_abs_max_zscore.csv\", index=False)"
   ]
  },
  {
   "cell_type": "markdown",
   "id": "3d081554",
   "metadata": {},
   "source": [
    "<h1 style=\"color:red;\">Data Manipulation for machine learning model building</h1>"
   ]
  },
  {
   "cell_type": "markdown",
   "id": "9ca0f455",
   "metadata": {},
   "source": [
    "<h3 style=\"color:navy;\">Read the \"SMILES_SPECIES_SEX_abs_max_zscore\" data frame</h3>"
   ]
  }
 ],
 "metadata": {
  "kernelspec": {
   "display_name": "Python 3 (ipykernel)",
   "language": "python",
   "name": "python3"
  },
  "language_info": {
   "codemirror_mode": {
    "name": "ipython",
    "version": 3
   },
   "file_extension": ".py",
   "mimetype": "text/x-python",
   "name": "python",
   "nbconvert_exporter": "python",
   "pygments_lexer": "ipython3",
   "version": "3.9.18"
  }
 },
 "nbformat": 4,
 "nbformat_minor": 5
}
