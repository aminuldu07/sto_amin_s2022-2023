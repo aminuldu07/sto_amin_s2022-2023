{
 "cells": [
  {
   "cell_type": "code",
   "execution_count": 1,
   "id": "44f33237",
   "metadata": {},
   "outputs": [],
   "source": [
    "import pandas as pd\n",
    "# Select the unique SMILES rows \n",
    "# Read the CSV file\n",
    "df = pd.read_csv(\"SMILES_zscore_extracted.csv\")\n",
    "\n",
    "# Select unique rows based on the \"SMILES\" column\n",
    "unique_smiles_df = df.drop_duplicates(subset=\"SMILES\", keep=\"first\")\n",
    "\n",
    "# Save the unique rows to a new CSV file\n",
    "unique_smiles_df.to_csv(\"SMILES_unique_zscore.csv\", index=False)\n"
   ]
  },
  {
   "cell_type": "code",
   "execution_count": 2,
   "id": "c7148fe7",
   "metadata": {},
   "outputs": [
    {
     "name": "stderr",
     "output_type": "stream",
     "text": [
      "[12:10:57] WARNING: not removing hydrogen atom without neighbors\n",
      "[12:10:57] WARNING: not removing hydrogen atom without neighbors\n",
      "[12:10:57] WARNING: not removing hydrogen atom without neighbors\n",
      "[12:10:57] WARNING: not removing hydrogen atom without neighbors\n",
      "[12:10:57] WARNING: not removing hydrogen atom without neighbors\n",
      "[12:10:57] WARNING: not removing hydrogen atom without neighbors\n",
      "[12:10:57] WARNING: not removing hydrogen atom without neighbors\n",
      "[12:10:57] WARNING: not removing hydrogen atom without neighbors\n",
      "[12:10:57] WARNING: not removing hydrogen atom without neighbors\n",
      "[12:10:57] WARNING: not removing hydrogen atom without neighbors\n",
      "[12:10:57] WARNING: not removing hydrogen atom without neighbors\n",
      "[12:10:57] WARNING: not removing hydrogen atom without neighbors\n",
      "[12:10:57] WARNING: not removing hydrogen atom without neighbors\n",
      "[12:10:57] WARNING: not removing hydrogen atom without neighbors\n",
      "[12:10:57] WARNING: not removing hydrogen atom without neighbors\n",
      "[12:10:57] WARNING: not removing hydrogen atom without neighbors\n"
     ]
    }
   ],
   "source": [
    "import pandas as pd\n",
    "from rdkit import Chem\n",
    "from mordred import Calculator, descriptors\n",
    "\n",
    "# Read the CSV file\n",
    "df = pd.read_csv(\"SMILES_unique_zscore.csv\")\n",
    "\n",
    "# Initialize Mordred descriptor calculator\n",
    "calc = Calculator(descriptors, ignore_3D=True)\n",
    "\n",
    "# Function to calculate descriptors from a SMILES string\n",
    "def calculate_descriptors(smiles):\n",
    "    try:\n",
    "        mol = Chem.MolFromSmiles(smiles)\n",
    "        return pd.Series(calc(mol))\n",
    "    except:\n",
    "        return pd.Series([])\n",
    "\n",
    "# Calculate descriptors for each unique SMILES string\n",
    "descriptors_df = df[\"SMILES\"].apply(calculate_descriptors)\n",
    "\n",
    "# Concatenate the original DataFrame with the calculated descriptors\n",
    "result_df = pd.concat([df, descriptors_df], axis=1)\n",
    "\n",
    "# Save the DataFrame with descriptors to a CSV file\n",
    "result_df.to_csv(\"SMILES_descriptors.csv\", index=False)\n"
   ]
  },
  {
   "cell_type": "code",
   "execution_count": 4,
   "id": "cfb13007",
   "metadata": {},
   "outputs": [
    {
     "name": "stderr",
     "output_type": "stream",
     "text": [
      "C:\\Users\\mdaminulisla.prodhan\\AppData\\Local\\Temp\\1\\ipykernel_12616\\1962498644.py:1: DtypeWarning: Columns (55,56,57,58,59,60,61,62,63,91,92,93,94,95,96,97,98,99,137,138,139,140,141,146,147,148,149,150,154,155,156,157,158,159,164,165,166,167,168,173,174,175,176,177,182,183,184,185,186,190,191,192,193,194,195,200,201,202,203,204,209,210,211,212,213,218,219,220,221,222,227,228,229,230,231,262,263,264,265,266,267,268,269,270,298,299,300,301,302,303,304,305,306,353,354,355,356,357,362,363,364,365,366,370,371,372,373,374,375,380,381,382,383,384,389,390,391,392,393,398,399,400,401,402,406,407,408,409,410,411,416,417,418,419,420,425,426,427,428,429,434,435,436,437,438,443,444,445,446,447,459,460,461,462,463,467,468,469,470,471,475,476,477,478,479,483,484,485,486,487,491,492,493,494,495,499,500,501,502,503,507,508,509,510,511,515,516,517,518,519,523,524,525,526,527,531,532,533,534,535,539,540,541,542,543,555,556,557,558,559,563,564,565,566,567,571,572,573,574,575,579,580,581,582,583,587,588,589,590,591,595,596,597,598,599,603,604,605,606,607,611,612,613,614,615,619,620,621,622,623,627,628,629,630,631,635,636,637,638,639,793,819,827,828,829,830,831,835,843,844,845,846,847,854,862,1277,1278,1279,1280,1281,1282,1301,1302,1303,1366,1554,1585,1613) have mixed types. Specify dtype option on import or set low_memory=False.\n",
      "  result_df2 = pd.read_csv(\"SMILES_descriptors.csv\")\n"
     ]
    }
   ],
   "source": [
    "result_df2 = pd.read_csv(\"SMILES_descriptors.csv\")"
   ]
  },
  {
   "cell_type": "code",
   "execution_count": 5,
   "id": "12b37618",
   "metadata": {},
   "outputs": [
    {
     "ename": "NameError",
     "evalue": "name 'SMILES' is not defined",
     "output_type": "error",
     "traceback": [
      "\u001b[1;31m---------------------------------------------------------------------------\u001b[0m",
      "\u001b[1;31mNameError\u001b[0m                                 Traceback (most recent call last)",
      "Cell \u001b[1;32mIn[5], line 1\u001b[0m\n\u001b[1;32m----> 1\u001b[0m df3 \u001b[38;5;241m=\u001b[39m result_df2[[\u001b[43mSMILES\u001b[49m,X0]]\n",
      "\u001b[1;31mNameError\u001b[0m: name 'SMILES' is not defined"
     ]
    }
   ],
   "source": [
    "df3 = result_df2[[SMILES,X0]]"
   ]
  },
  {
   "cell_type": "code",
   "execution_count": null,
   "id": "2a77a5f0",
   "metadata": {},
   "outputs": [],
   "source": [
    "type"
   ]
  }
 ],
 "metadata": {
  "kernelspec": {
   "display_name": "Python 3 (ipykernel)",
   "language": "python",
   "name": "python3"
  },
  "language_info": {
   "codemirror_mode": {
    "name": "ipython",
    "version": 3
   },
   "file_extension": ".py",
   "mimetype": "text/x-python",
   "name": "python",
   "nbconvert_exporter": "python",
   "pygments_lexer": "ipython3",
   "version": "3.11.0"
  }
 },
 "nbformat": 4,
 "nbformat_minor": 5
}
