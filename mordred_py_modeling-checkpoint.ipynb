{
 "cells": [
  {
   "cell_type": "code",
   "execution_count": 1,
   "id": "f204e0d0",
   "metadata": {},
   "outputs": [],
   "source": [
    "# \"merged_Smiles_zscores_empty_smiles_deleted,csv\" having 1541 rows was the starting file for MORDRED\n",
    "# \"merged_Smiles_zscores_empty_smiles_deleted,csv\" was renamed....\n",
    "# as \"data1_started_here_merged_Smiles_zscores_empty_smiles_deleted.csv\"\n",
    "\n",
    "import pandas as pd\n",
    "\n",
    "df = pd.read_csv(\"data1_started_here_merged_Smiles_zscores_empty_smiles_deleted.csv\")"
   ]
  },
  {
   "cell_type": "code",
   "execution_count": 2,
   "id": "7126dc39",
   "metadata": {},
   "outputs": [],
   "source": [
    "# Select \"SMILES\" & \"zscore\" from the df as df1\n",
    "df1 = df[['SMILES', 'zscore']]"
   ]
  },
  {
   "cell_type": "code",
   "execution_count": 3,
   "id": "6be68ba4",
   "metadata": {},
   "outputs": [],
   "source": [
    "# Find unique values of a column\n",
    "#print(df1['SMILES'].unique())"
   ]
  },
  {
   "cell_type": "code",
   "execution_count": 4,
   "id": "6e0b3fa6",
   "metadata": {},
   "outputs": [],
   "source": [
    "# Unique rows based on SMILES column ( 574_rows x 2_col)\n",
    "df2 = df1.drop_duplicates(subset = \"SMILES\")\n"
   ]
  },
  {
   "cell_type": "code",
   "execution_count": 5,
   "id": "79c740c9",
   "metadata": {},
   "outputs": [],
   "source": [
    "import pandas as pd\n",
    "\n",
    "# Read the CSV file\n",
    "df = pd.read_csv(\"data1_started_here_merged_Smiles_zscores_empty_smiles_deleted.csv\")\n",
    "\n",
    "# Extract the two columns, \"SMILES\" and \"zscore\"\n",
    "new_df = df[[\"SMILES\", \"zscore\"]]\n",
    "\n",
    "# Save the new DataFrame to a CSV file\n",
    "new_df.to_csv(\"SMILES_zscore_extracted.csv\", index=False)\n"
   ]
  },
  {
   "cell_type": "code",
   "execution_count": 6,
   "id": "44f33237",
   "metadata": {},
   "outputs": [],
   "source": [
    "#import pandas as pd\n",
    "# Select the unique SMILES rows \n",
    "# Read the CSV file\n",
    "df = pd.read_csv(\"SMILES_zscore_extracted.csv\")\n",
    "\n",
    "# Select unique rows based on the \"SMILES\" column\n",
    "unique_smiles_df = df.drop_duplicates(subset=\"SMILES\", keep=\"first\")\n",
    "\n",
    "# Save the unique rows to a new CSV file\n",
    "unique_smiles_df.to_csv(\"SMILES_unique_zscore.csv\", index=False)\n"
   ]
  },
  {
   "cell_type": "code",
   "execution_count": null,
   "id": "c7148fe7",
   "metadata": {},
   "outputs": [],
   "source": [
    "import pandas as pd\n",
    "from rdkit import Chem\n",
    "from mordred import Calculator, descriptors\n",
    "\n",
    "# Read the CSV file\n",
    "df = pd.read_csv(\"SMILES_unique_zscore.csv\")\n",
    "\n",
    "# Initialize Mordred descriptor calculator\n",
    "calc = Calculator(descriptors, ignore_3D=True)\n",
    "\n",
    "# Function to calculate descriptors from a SMILES string\n",
    "def calculate_descriptors(smiles):\n",
    "    try:\n",
    "        mol = Chem.MolFromSmiles(smiles)\n",
    "        return pd.Series(calc(mol))\n",
    "    except:\n",
    "        return pd.Series([])\n",
    "\n",
    "# Calculate descriptors for each unique SMILES string\n",
    "descriptors_df = df[\"SMILES\"].apply(calculate_descriptors)\n",
    "\n",
    "# Concatenate the original DataFrame with the calculated descriptors\n",
    "result_df = pd.concat([df, descriptors_df], axis=1)\n",
    "result_df\n",
    "# Save the DataFrame with descriptors to a CSV file\n",
    "#result_df.to_csv(\"SMILES_descriptors.csv\", index=False)\n"
   ]
  },
  {
   "cell_type": "code",
   "execution_count": null,
   "id": "9446a436",
   "metadata": {},
   "outputs": [],
   "source": [
    "df_descriptors = pd.read_csv(\"SMILES_descriptors.csv\")\n",
    "df_descriptors"
   ]
  },
  {
   "cell_type": "code",
   "execution_count": null,
   "id": "b3de7cd9",
   "metadata": {},
   "outputs": [],
   "source": []
  }
 ],
 "metadata": {
  "kernelspec": {
   "display_name": "Python 3 (ipykernel)",
   "language": "python",
   "name": "python3"
  },
  "language_info": {
   "codemirror_mode": {
    "name": "ipython",
    "version": 3
   },
   "file_extension": ".py",
   "mimetype": "text/x-python",
   "name": "python",
   "nbconvert_exporter": "python",
   "pygments_lexer": "ipython3",
   "version": "3.11.0"
  }
 },
 "nbformat": 4,
 "nbformat_minor": 5
}
