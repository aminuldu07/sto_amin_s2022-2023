{
 "cells": [
  {
   "cell_type": "markdown",
   "id": "6aece483",
   "metadata": {},
   "source": [
    "# Differece between columns of two differnt csv"
   ]
  },
  {
   "cell_type": "code",
   "execution_count": 9,
   "id": "6c8f19e9",
   "metadata": {},
   "outputs": [
    {
     "name": "stdout",
     "output_type": "stream",
     "text": [
      "779      00312479\n",
      "780      00312479\n",
      "781      00312479\n",
      "782      00312479\n",
      "783      00312479\n",
      "           ...   \n",
      "58828    01643011\n",
      "58829    01643011\n",
      "58830    01643011\n",
      "58831    01643011\n",
      "58832    01643011\n",
      "Name: STUDYID, Length: 4215, dtype: object\n"
     ]
    }
   ],
   "source": [
    "import pandas as pd\n",
    "\n",
    "# Read the CSV files into pandas DataFrames\n",
    "df_cleaned = pd.read_csv('dfNC_cleanf.csv')\n",
    "df_original = pd.read_csv('IND147206NC_manually_cleaned.csv')\n",
    "\n",
    "# Extract the 'BWSTRESN' column from both DataFrames\n",
    "bwstresn_cleaned = df_cleaned['STUDYID']\n",
    "bwstresn_original = df_original['STUDYID']\n",
    "\n",
    "# Find the differences between the two columns\n",
    "differences = bwstresn_cleaned[~bwstresn_cleaned.isin(bwstresn_original)]\n",
    "\n",
    "# Print the differences\n",
    "print(differences)\n"
   ]
  },
  {
   "cell_type": "code",
   "execution_count": 10,
   "id": "a695e8cc",
   "metadata": {},
   "outputs": [],
   "source": [
    "differences.to_csv('differnce.csv')"
   ]
  },
  {
   "cell_type": "code",
   "execution_count": 11,
   "id": "f3e767eb",
   "metadata": {},
   "outputs": [
    {
     "name": "stdout",
     "output_type": "stream",
     "text": [
      "Data types in df_cleaned:\n",
      "float64\n",
      "\n",
      "Data types in df_original:\n",
      "float64\n"
     ]
    }
   ],
   "source": [
    "import pandas as pd\n",
    "\n",
    "# Read the CSV files into pandas DataFrames\n",
    "df_cleaned = pd.read_csv('dfNC_cleanf.csv')\n",
    "df_original = pd.read_csv('IND147206NC_manually_cleaned.csv')\n",
    "\n",
    "# Check the data types of the 'BWSTRESN' column\n",
    "print(\"Data types in df_cleaned:\")\n",
    "print(df_cleaned['BWSTRESN'].dtype)\n",
    "print(\"\\nData types in df_original:\")\n",
    "print(df_original['BWSTRESN'].dtype)\n"
   ]
  },
  {
   "cell_type": "code",
   "execution_count": 12,
   "id": "ad005e90",
   "metadata": {},
   "outputs": [
    {
     "name": "stdout",
     "output_type": "stream",
     "text": [
      "Data types in df_cleaned:\n",
      "APPID           object\n",
      "STUDYID         object\n",
      "DSDECOD         object\n",
      "SEX             object\n",
      "SPECIES         object\n",
      "USUBJID         object\n",
      "BWTESTCD        object\n",
      "BWSTRESN       float64\n",
      "BWSTRESU        object\n",
      "TSSPECIES       object\n",
      "TRTDOSLEVEL     object\n",
      "TXPARMCD        object\n",
      "dtype: object\n",
      "\n",
      "Data types in df_original:\n",
      "APPID           object\n",
      "STUDYID         object\n",
      "DSDECOD         object\n",
      "SEX             object\n",
      "SPECIES         object\n",
      "USUBJID         object\n",
      "BWTESTCD        object\n",
      "BWSTRESN       float64\n",
      "BWSTRESU        object\n",
      "TSSPECIES       object\n",
      "TRTDOSLEVEL     object\n",
      "TXPARMCD        object\n",
      "dtype: object\n"
     ]
    }
   ],
   "source": [
    "import pandas as pd\n",
    "\n",
    "# Read the CSV files into pandas DataFrames\n",
    "df_cleaned = pd.read_csv('dfNC_cleanf.csv')\n",
    "df_original = pd.read_csv('IND147206NC_manually_cleaned.csv')\n",
    "\n",
    "# Print the data types of each column in the cleaned DataFrame\n",
    "print(\"Data types in df_cleaned:\")\n",
    "print(df_cleaned.dtypes)\n",
    "print()\n",
    "\n",
    "# Print the data types of each column in the original DataFrame\n",
    "print(\"Data types in df_original:\")\n",
    "print(df_original.dtypes)\n"
   ]
  },
  {
   "cell_type": "code",
   "execution_count": 13,
   "id": "58a52593",
   "metadata": {},
   "outputs": [
    {
     "name": "stdout",
     "output_type": "stream",
     "text": [
      "Series([], Name: BWSTRESN, dtype: float64)\n"
     ]
    }
   ],
   "source": [
    "import pandas as pd\n",
    "\n",
    "# Read the CSV files into pandas DataFrames\n",
    "df_cleaned = pd.read_csv('dfNC_cleanf.csv')\n",
    "df_original = pd.read_csv('IND147206NC_manually_cleaned.csv')\n",
    "\n",
    "# Extract the 'BWSTRESN' column from both DataFrames\n",
    "bwstresn_cleaned = df_cleaned['BWSTRESN']\n",
    "bwstresn_original = df_original['BWSTRESN']\n",
    "\n",
    "# Compare the values of the 'BWSTRESN' column\n",
    "differences = bwstresn_cleaned[~bwstresn_cleaned.isin(bwstresn_original)]\n",
    "\n",
    "# Print the differences\n",
    "print(differences)\n"
   ]
  },
  {
   "cell_type": "code",
   "execution_count": 14,
   "id": "99e4a64d",
   "metadata": {},
   "outputs": [
    {
     "name": "stdout",
     "output_type": "stream",
     "text": [
      "Number of rows with TSSPECIES = RAT in df_cleaned: 35191\n",
      "Number of rows with TSSPECIES = RAT in df_original: 35191\n"
     ]
    }
   ],
   "source": [
    "# Count the number of rows where TSSPECIES is RAT in df_cleaned\n",
    "count_cleaned = df_cleaned[df_cleaned['TSSPECIES'] == 'RAT'].shape[0]\n",
    "\n",
    "# Count the number of rows where TSSPECIES is RAT in df_original\n",
    "count_original = df_original[df_original['TSSPECIES'] == 'RAT'].shape[0]\n",
    "\n",
    "# Print the counts\n",
    "print(\"Number of rows with TSSPECIES = RAT in df_cleaned:\", count_cleaned)\n",
    "print(\"Number of rows with TSSPECIES = RAT in df_original:\", count_original)\n"
   ]
  },
  {
   "cell_type": "markdown",
   "id": "405cd95d",
   "metadata": {},
   "source": [
    "# Differece between two differnt csv"
   ]
  },
  {
   "cell_type": "code",
   "execution_count": 7,
   "id": "e34e4ed0",
   "metadata": {},
   "outputs": [
    {
     "name": "stdout",
     "output_type": "stream",
     "text": [
      "       STUDYID  mean_BWSTRESN  sd_BWSTRESN\n",
      "0     00041516       2.800000     0.565685\n",
      "1     00041523       2.950000     0.331662\n",
      "2     00041524     569.266667    58.216918\n",
      "3     00041530     384.500000    32.333088\n",
      "4     00041532     707.666667    85.029967\n",
      "...        ...            ...          ...\n",
      "7072  tt211022       6.366667     1.159023\n",
      "7073  tt221000     436.550000    49.725273\n",
      "7074  tt221002      37.607143     3.296493\n",
      "7075  tt221004     278.200000    22.607226\n",
      "7076  tt221021      10.233333     1.242310\n",
      "\n",
      "[13431 rows x 3 columns]\n"
     ]
    }
   ],
   "source": [
    "import pandas as pd\n",
    "\n",
    "# Read the first CSV file\n",
    "df1 = pd.read_csv('df1_grouped.csv')\n",
    "\n",
    "# Read the second CSV file\n",
    "df2 = pd.read_csv('df1_groupedp.csv')\n",
    "\n",
    "# Compare the two DataFrames\n",
    "diff = pd.concat([df1, df2]).drop_duplicates(keep=False)\n",
    "\n",
    "# Print the differences\n",
    "print(diff)\n"
   ]
  },
  {
   "cell_type": "code",
   "execution_count": null,
   "id": "03303485",
   "metadata": {},
   "outputs": [],
   "source": []
  }
 ],
 "metadata": {
  "kernelspec": {
   "display_name": "Python 3 (ipykernel)",
   "language": "python",
   "name": "python3"
  },
  "language_info": {
   "codemirror_mode": {
    "name": "ipython",
    "version": 3
   },
   "file_extension": ".py",
   "mimetype": "text/x-python",
   "name": "python",
   "nbconvert_exporter": "python",
   "pygments_lexer": "ipython3",
   "version": "3.9.13"
  }
 },
 "nbformat": 4,
 "nbformat_minor": 5
}
