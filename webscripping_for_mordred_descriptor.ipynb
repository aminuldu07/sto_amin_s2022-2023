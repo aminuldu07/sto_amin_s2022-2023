{
 "cells": [
  {
   "cell_type": "code",
   "execution_count": 4,
   "id": "b311016b-a6e3-40fb-bd8b-f909c5f4ebbb",
   "metadata": {},
   "outputs": [
    {
     "name": "stdout",
     "output_type": "stream",
     "text": [
      "C:\\Users\\mdaminulisla.prodhan\\All_My_Miscellenous\\pubchempy\n"
     ]
    }
   ],
   "source": [
    "# Get the current directory of the notebook file\n",
    "\n",
    "import os\n",
    "\n",
    "print(os.getcwd())\n"
   ]
  },
  {
   "cell_type": "code",
   "execution_count": 6,
   "id": "2626bd16-936c-4865-9a54-1e72a10df164",
   "metadata": {},
   "outputs": [],
   "source": [
    "# Web Scrapping for getting the descriptors table from the mordred documentation\n",
    "\n",
    "import requests\n",
    "from bs4 import BeautifulSoup\n",
    "import pandas as pd\n",
    "\n",
    "# Fetch the webpage\n",
    "response = requests.get('https://mordred-descriptor.github.io/documentation/master/descriptors.html')\n",
    "soup = BeautifulSoup(response.text, 'html.parser')\n",
    "\n",
    "# Find the tables on the page\n",
    "tables = soup.find_all('table')\n",
    "\n",
    "# This list will hold all of the data\n",
    "data = []\n",
    "\n",
    "# Iterate over each table\n",
    "for table in tables:\n",
    "    # Find all rows in this table\n",
    "    rows = table.find_all('tr')\n",
    "    \n",
    "    # Iterate over each row\n",
    "    for row in rows:\n",
    "        # Find all columns in this row\n",
    "        cols = row.find_all('td')\n",
    "        \n",
    "        # Get the text from each column and add it to the list\n",
    "        cols = [col.text.strip() for col in cols]\n",
    "        data.append(cols)\n",
    "\n",
    "# Create a pandas DataFrame from the data\n",
    "df = pd.DataFrame(data, columns=[\"#\", \"Module\", \"Name\", \"Constructor\", \"Dimension\", \"Description\"])\n",
    "\n",
    "# Write the DataFrame to an Excel file\n",
    "df.to_excel(\"mordred_descriptors.xlsx\", index=False)\n"
   ]
  }
 ],
 "metadata": {
  "kernelspec": {
   "display_name": "Python 3 (ipykernel)",
   "language": "python",
   "name": "python3"
  },
  "language_info": {
   "codemirror_mode": {
    "name": "ipython",
    "version": 3
   },
   "file_extension": ".py",
   "mimetype": "text/x-python",
   "name": "python",
   "nbconvert_exporter": "python",
   "pygments_lexer": "ipython3",
   "version": "3.9.13"
  }
 },
 "nbformat": 4,
 "nbformat_minor": 5
}
